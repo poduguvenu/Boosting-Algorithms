{
  "nbformat": 4,
  "nbformat_minor": 0,
  "metadata": {
    "kernelspec": {
      "display_name": "Python 3",
      "language": "python",
      "name": "python3"
    },
    "language_info": {
      "codemirror_mode": {
        "name": "ipython",
        "version": 3
      },
      "file_extension": ".py",
      "mimetype": "text/x-python",
      "name": "python",
      "nbconvert_exporter": "python",
      "pygments_lexer": "ipython3",
      "version": "3.7.6"
    },
    "colab": {
      "name": "xgboost-customer-churn.ipynb",
      "provenance": []
    }
  },
  "cells": [
    {
      "cell_type": "markdown",
      "metadata": {
        "id": "5EoBFTLiEuPG"
      },
      "source": [
        "# XGBoost (Customer Churn)\n",
        "---\n",
        "In this notebook we will use **XGBoost** to build a collection of boosted trees, and use continuous and categorical data from the **IBM Base Samples** to predict whether or not a customer will **stop using a company's service**. In business lingo, this is called **Customer Churn**. \n",
        "\n",
        "We will use `Telco Churn Dataset` for prediction"
      ]
    },
    {
      "cell_type": "markdown",
      "metadata": {
        "id": "MhiPdq9EGbdE"
      },
      "source": [
        "> **XGBoost** is an exceptionally useful machine learning method when you don't want to sacrifice the ability to correctly classify observations but you still want a model that is fairly easy to understand and interpret.\n",
        "<br>\n",
        "> In this notebook we will learn about...\n",
        "> - **Importing data from a file**\n",
        "> - **Missing Data**\n",
        ">  - Identifying Missing Data\n",
        ">  - Dealing with Missing Data\n",
        "> - **Formatting the Data for XGBoost**\n",
        ">  - Splitting data into Dependent and Independent Variables\n",
        ">  - One Hot Encoding\n",
        ">  - Converting all columns to Int, Float or Bool\n",
        "> - **Building a Preliminary XGBoost Model**\n",
        "> - **Optimizing Parameters with Cross Validation and GridSearch()**\n",
        ">  - Optimizing the learning rate, tree depth, number of trees, gamma (for pruning) and lambda (for regularization)\n",
        "> - **Building, Drawing, Interpreting and Evaluating the Optimized XGBoost Model**\n",
        "\n",
        "### Note:\n",
        "> For better understanding of this algorithm, one should know the theory behind `XGBoost`, `Cross Validation` and `Confusion Matrices`"
      ]
    },
    {
      "cell_type": "markdown",
      "metadata": {
        "id": "zdLfJqH6sd07"
      },
      "source": [
        "## Importing the Required Modules\n",
        "> The first thing we do is load in a bunch of Python Modules. Python, itself, just gives us a basic programming language. These modules give us extra functionality to import the data, clean it up and format it, and then build, evaluate and draw the **XGBoost** model"
      ]
    },
    {
      "cell_type": "code",
      "metadata": {
        "id": "NehU4KY7EsOi"
      },
      "source": [
        "import pandas as pd\n",
        "import numpy as np\n",
        "import xgboost as xgb\n",
        "from sklearn.model_selection import train_test_split, GridSearchCV\n",
        "from sklearn.metrics import balanced_accuracy_score, roc_auc_score, make_scorer\n",
        "from sklearn.metrics import confusion_matrix, plot_confusion_matrix"
      ],
      "execution_count": 4,
      "outputs": []
    },
    {
      "cell_type": "markdown",
      "metadata": {
        "id": "GrypyuSPuQH0"
      },
      "source": [
        "## Import the Data\n",
        "> Now we load in a dataset from the `IBM Base Samples`. Specifically, we are going to use the `Telco Churn Dataset`. This dataset will allow us to predict if someone will stop using Telco's services or not using a variety of continuous and categorical datatypes."
      ]
    },
    {
      "cell_type": "code",
      "metadata": {
        "colab": {
          "base_uri": "https://localhost:8080/"
        },
        "id": "_2pUPLZZv-al",
        "outputId": "a2be8dfd-ce9a-4498-f05c-ce347d7d0f06"
      },
      "source": [
        "!pip install opendatasets --upgrade --quiet\n",
        "import opendatasets as od\n",
        "\n",
        "od.download('https://www.kaggle.com/blastchar/telco-customer-churn')"
      ],
      "execution_count": 1,
      "outputs": [
        {
          "output_type": "stream",
          "text": [
            "Please provide your Kaggle credentials to download this dataset. Learn more: http://bit.ly/kaggle-creds\n",
            "Your Kaggle username: venupodugu\n",
            "Your Kaggle Key: ··········\n"
          ],
          "name": "stdout"
        },
        {
          "output_type": "stream",
          "text": [
            "100%|██████████| 172k/172k [00:00<00:00, 29.2MB/s]"
          ],
          "name": "stderr"
        },
        {
          "output_type": "stream",
          "text": [
            "Downloading telco-customer-churn.zip to ./telco-customer-churn\n",
            "\n"
          ],
          "name": "stdout"
        },
        {
          "output_type": "stream",
          "text": [
            "\n"
          ],
          "name": "stderr"
        }
      ]
    },
    {
      "cell_type": "code",
      "metadata": {
        "id": "gWsv-fpMvCgI"
      },
      "source": [
        "df = pd.read_csv('./telco-customer-churn/WA_Fn-UseC_-Telco-Customer-Churn.csv')"
      ],
      "execution_count": 81,
      "outputs": []
    },
    {
      "cell_type": "code",
      "metadata": {
        "colab": {
          "base_uri": "https://localhost:8080/",
          "height": 292
        },
        "id": "a-b-bNDCxVPN",
        "outputId": "4556e152-9e6b-4878-cb60-0def7e8891f7"
      },
      "source": [
        "df.head()"
      ],
      "execution_count": 82,
      "outputs": [
        {
          "output_type": "execute_result",
          "data": {
            "text/html": [
              "<div>\n",
              "<style scoped>\n",
              "    .dataframe tbody tr th:only-of-type {\n",
              "        vertical-align: middle;\n",
              "    }\n",
              "\n",
              "    .dataframe tbody tr th {\n",
              "        vertical-align: top;\n",
              "    }\n",
              "\n",
              "    .dataframe thead th {\n",
              "        text-align: right;\n",
              "    }\n",
              "</style>\n",
              "<table border=\"1\" class=\"dataframe\">\n",
              "  <thead>\n",
              "    <tr style=\"text-align: right;\">\n",
              "      <th></th>\n",
              "      <th>customerID</th>\n",
              "      <th>gender</th>\n",
              "      <th>SeniorCitizen</th>\n",
              "      <th>Partner</th>\n",
              "      <th>Dependents</th>\n",
              "      <th>tenure</th>\n",
              "      <th>PhoneService</th>\n",
              "      <th>MultipleLines</th>\n",
              "      <th>InternetService</th>\n",
              "      <th>OnlineSecurity</th>\n",
              "      <th>OnlineBackup</th>\n",
              "      <th>DeviceProtection</th>\n",
              "      <th>TechSupport</th>\n",
              "      <th>StreamingTV</th>\n",
              "      <th>StreamingMovies</th>\n",
              "      <th>Contract</th>\n",
              "      <th>PaperlessBilling</th>\n",
              "      <th>PaymentMethod</th>\n",
              "      <th>MonthlyCharges</th>\n",
              "      <th>TotalCharges</th>\n",
              "      <th>Churn</th>\n",
              "    </tr>\n",
              "  </thead>\n",
              "  <tbody>\n",
              "    <tr>\n",
              "      <th>0</th>\n",
              "      <td>7590-VHVEG</td>\n",
              "      <td>Female</td>\n",
              "      <td>0</td>\n",
              "      <td>Yes</td>\n",
              "      <td>No</td>\n",
              "      <td>1</td>\n",
              "      <td>No</td>\n",
              "      <td>No phone service</td>\n",
              "      <td>DSL</td>\n",
              "      <td>No</td>\n",
              "      <td>Yes</td>\n",
              "      <td>No</td>\n",
              "      <td>No</td>\n",
              "      <td>No</td>\n",
              "      <td>No</td>\n",
              "      <td>Month-to-month</td>\n",
              "      <td>Yes</td>\n",
              "      <td>Electronic check</td>\n",
              "      <td>29.85</td>\n",
              "      <td>29.85</td>\n",
              "      <td>No</td>\n",
              "    </tr>\n",
              "    <tr>\n",
              "      <th>1</th>\n",
              "      <td>5575-GNVDE</td>\n",
              "      <td>Male</td>\n",
              "      <td>0</td>\n",
              "      <td>No</td>\n",
              "      <td>No</td>\n",
              "      <td>34</td>\n",
              "      <td>Yes</td>\n",
              "      <td>No</td>\n",
              "      <td>DSL</td>\n",
              "      <td>Yes</td>\n",
              "      <td>No</td>\n",
              "      <td>Yes</td>\n",
              "      <td>No</td>\n",
              "      <td>No</td>\n",
              "      <td>No</td>\n",
              "      <td>One year</td>\n",
              "      <td>No</td>\n",
              "      <td>Mailed check</td>\n",
              "      <td>56.95</td>\n",
              "      <td>1889.5</td>\n",
              "      <td>No</td>\n",
              "    </tr>\n",
              "    <tr>\n",
              "      <th>2</th>\n",
              "      <td>3668-QPYBK</td>\n",
              "      <td>Male</td>\n",
              "      <td>0</td>\n",
              "      <td>No</td>\n",
              "      <td>No</td>\n",
              "      <td>2</td>\n",
              "      <td>Yes</td>\n",
              "      <td>No</td>\n",
              "      <td>DSL</td>\n",
              "      <td>Yes</td>\n",
              "      <td>Yes</td>\n",
              "      <td>No</td>\n",
              "      <td>No</td>\n",
              "      <td>No</td>\n",
              "      <td>No</td>\n",
              "      <td>Month-to-month</td>\n",
              "      <td>Yes</td>\n",
              "      <td>Mailed check</td>\n",
              "      <td>53.85</td>\n",
              "      <td>108.15</td>\n",
              "      <td>Yes</td>\n",
              "    </tr>\n",
              "    <tr>\n",
              "      <th>3</th>\n",
              "      <td>7795-CFOCW</td>\n",
              "      <td>Male</td>\n",
              "      <td>0</td>\n",
              "      <td>No</td>\n",
              "      <td>No</td>\n",
              "      <td>45</td>\n",
              "      <td>No</td>\n",
              "      <td>No phone service</td>\n",
              "      <td>DSL</td>\n",
              "      <td>Yes</td>\n",
              "      <td>No</td>\n",
              "      <td>Yes</td>\n",
              "      <td>Yes</td>\n",
              "      <td>No</td>\n",
              "      <td>No</td>\n",
              "      <td>One year</td>\n",
              "      <td>No</td>\n",
              "      <td>Bank transfer (automatic)</td>\n",
              "      <td>42.30</td>\n",
              "      <td>1840.75</td>\n",
              "      <td>No</td>\n",
              "    </tr>\n",
              "    <tr>\n",
              "      <th>4</th>\n",
              "      <td>9237-HQITU</td>\n",
              "      <td>Female</td>\n",
              "      <td>0</td>\n",
              "      <td>No</td>\n",
              "      <td>No</td>\n",
              "      <td>2</td>\n",
              "      <td>Yes</td>\n",
              "      <td>No</td>\n",
              "      <td>Fiber optic</td>\n",
              "      <td>No</td>\n",
              "      <td>No</td>\n",
              "      <td>No</td>\n",
              "      <td>No</td>\n",
              "      <td>No</td>\n",
              "      <td>No</td>\n",
              "      <td>Month-to-month</td>\n",
              "      <td>Yes</td>\n",
              "      <td>Electronic check</td>\n",
              "      <td>70.70</td>\n",
              "      <td>151.65</td>\n",
              "      <td>Yes</td>\n",
              "    </tr>\n",
              "  </tbody>\n",
              "</table>\n",
              "</div>"
            ],
            "text/plain": [
              "   customerID  gender  SeniorCitizen  ... MonthlyCharges TotalCharges  Churn\n",
              "0  7590-VHVEG  Female              0  ...          29.85        29.85     No\n",
              "1  5575-GNVDE    Male              0  ...          56.95       1889.5     No\n",
              "2  3668-QPYBK    Male              0  ...          53.85       108.15    Yes\n",
              "3  7795-CFOCW    Male              0  ...          42.30      1840.75     No\n",
              "4  9237-HQITU  Female              0  ...          70.70       151.65    Yes\n",
              "\n",
              "[5 rows x 21 columns]"
            ]
          },
          "metadata": {
            "tags": []
          },
          "execution_count": 82
        }
      ]
    },
    {
      "cell_type": "code",
      "metadata": {
        "colab": {
          "base_uri": "https://localhost:8080/"
        },
        "id": "KAn0BkIAxWSi",
        "outputId": "434b1ed0-144e-4ad6-e9fe-7ca22e5d4c3f"
      },
      "source": [
        "df.shape"
      ],
      "execution_count": 83,
      "outputs": [
        {
          "output_type": "execute_result",
          "data": {
            "text/plain": [
              "(7043, 21)"
            ]
          },
          "metadata": {
            "tags": []
          },
          "execution_count": 83
        }
      ]
    },
    {
      "cell_type": "code",
      "metadata": {
        "colab": {
          "base_uri": "https://localhost:8080/"
        },
        "id": "mCfnMzO3xhwh",
        "outputId": "96ca2799-fa89-436f-81b2-cbe2cde63d89"
      },
      "source": [
        "df.columns"
      ],
      "execution_count": 8,
      "outputs": [
        {
          "output_type": "execute_result",
          "data": {
            "text/plain": [
              "Index(['customerID', 'gender', 'SeniorCitizen', 'Partner', 'Dependents',\n",
              "       'tenure', 'PhoneService', 'MultipleLines', 'InternetService',\n",
              "       'OnlineSecurity', 'OnlineBackup', 'DeviceProtection', 'TechSupport',\n",
              "       'StreamingTV', 'StreamingMovies', 'Contract', 'PaperlessBilling',\n",
              "       'PaymentMethod', 'MonthlyCharges', 'TotalCharges', 'Churn'],\n",
              "      dtype='object')"
            ]
          },
          "metadata": {
            "tags": []
          },
          "execution_count": 8
        }
      ]
    },
    {
      "cell_type": "code",
      "metadata": {
        "colab": {
          "base_uri": "https://localhost:8080/"
        },
        "id": "nFu3UCbGx6Bi",
        "outputId": "46dda377-7afc-408b-a0aa-c2e34bfd4f43"
      },
      "source": [
        "df.info()"
      ],
      "execution_count": 29,
      "outputs": [
        {
          "output_type": "stream",
          "text": [
            "<class 'pandas.core.frame.DataFrame'>\n",
            "RangeIndex: 7043 entries, 0 to 7042\n",
            "Data columns (total 21 columns):\n",
            " #   Column            Non-Null Count  Dtype  \n",
            "---  ------            --------------  -----  \n",
            " 0   customerID        7043 non-null   object \n",
            " 1   gender            7043 non-null   object \n",
            " 2   SeniorCitizen     7043 non-null   int64  \n",
            " 3   Partner           7043 non-null   object \n",
            " 4   Dependents        7043 non-null   object \n",
            " 5   tenure            7043 non-null   int64  \n",
            " 6   PhoneService      7043 non-null   object \n",
            " 7   MultipleLines     7043 non-null   object \n",
            " 8   InternetService   7043 non-null   object \n",
            " 9   OnlineSecurity    7043 non-null   object \n",
            " 10  OnlineBackup      7043 non-null   object \n",
            " 11  DeviceProtection  7043 non-null   object \n",
            " 12  TechSupport       7043 non-null   object \n",
            " 13  StreamingTV       7043 non-null   object \n",
            " 14  StreamingMovies   7043 non-null   object \n",
            " 15  Contract          7043 non-null   object \n",
            " 16  PaperlessBilling  7043 non-null   object \n",
            " 17  PaymentMethod     7043 non-null   object \n",
            " 18  MonthlyCharges    7043 non-null   float64\n",
            " 19  TotalCharges      7043 non-null   object \n",
            " 20  Churn             7043 non-null   object \n",
            "dtypes: float64(1), int64(2), object(18)\n",
            "memory usage: 1.1+ MB\n"
          ],
          "name": "stdout"
        }
      ]
    },
    {
      "cell_type": "markdown",
      "metadata": {
        "id": "nNA_mUH70onO"
      },
      "source": [
        "> We will remove `customerID` from the dataset because it is different for every customer and useless for classification."
      ]
    },
    {
      "cell_type": "code",
      "metadata": {
        "colab": {
          "base_uri": "https://localhost:8080/",
          "height": 276
        },
        "id": "1JLUL63CzoMo",
        "outputId": "b6736d91-c351-4f0a-d266-78dd02dc6740"
      },
      "source": [
        "df.drop(['customerID'], axis=1, inplace=True)\n",
        "df.head()"
      ],
      "execution_count": 84,
      "outputs": [
        {
          "output_type": "execute_result",
          "data": {
            "text/html": [
              "<div>\n",
              "<style scoped>\n",
              "    .dataframe tbody tr th:only-of-type {\n",
              "        vertical-align: middle;\n",
              "    }\n",
              "\n",
              "    .dataframe tbody tr th {\n",
              "        vertical-align: top;\n",
              "    }\n",
              "\n",
              "    .dataframe thead th {\n",
              "        text-align: right;\n",
              "    }\n",
              "</style>\n",
              "<table border=\"1\" class=\"dataframe\">\n",
              "  <thead>\n",
              "    <tr style=\"text-align: right;\">\n",
              "      <th></th>\n",
              "      <th>gender</th>\n",
              "      <th>SeniorCitizen</th>\n",
              "      <th>Partner</th>\n",
              "      <th>Dependents</th>\n",
              "      <th>tenure</th>\n",
              "      <th>PhoneService</th>\n",
              "      <th>MultipleLines</th>\n",
              "      <th>InternetService</th>\n",
              "      <th>OnlineSecurity</th>\n",
              "      <th>OnlineBackup</th>\n",
              "      <th>DeviceProtection</th>\n",
              "      <th>TechSupport</th>\n",
              "      <th>StreamingTV</th>\n",
              "      <th>StreamingMovies</th>\n",
              "      <th>Contract</th>\n",
              "      <th>PaperlessBilling</th>\n",
              "      <th>PaymentMethod</th>\n",
              "      <th>MonthlyCharges</th>\n",
              "      <th>TotalCharges</th>\n",
              "      <th>Churn</th>\n",
              "    </tr>\n",
              "  </thead>\n",
              "  <tbody>\n",
              "    <tr>\n",
              "      <th>0</th>\n",
              "      <td>Female</td>\n",
              "      <td>0</td>\n",
              "      <td>Yes</td>\n",
              "      <td>No</td>\n",
              "      <td>1</td>\n",
              "      <td>No</td>\n",
              "      <td>No phone service</td>\n",
              "      <td>DSL</td>\n",
              "      <td>No</td>\n",
              "      <td>Yes</td>\n",
              "      <td>No</td>\n",
              "      <td>No</td>\n",
              "      <td>No</td>\n",
              "      <td>No</td>\n",
              "      <td>Month-to-month</td>\n",
              "      <td>Yes</td>\n",
              "      <td>Electronic check</td>\n",
              "      <td>29.85</td>\n",
              "      <td>29.85</td>\n",
              "      <td>No</td>\n",
              "    </tr>\n",
              "    <tr>\n",
              "      <th>1</th>\n",
              "      <td>Male</td>\n",
              "      <td>0</td>\n",
              "      <td>No</td>\n",
              "      <td>No</td>\n",
              "      <td>34</td>\n",
              "      <td>Yes</td>\n",
              "      <td>No</td>\n",
              "      <td>DSL</td>\n",
              "      <td>Yes</td>\n",
              "      <td>No</td>\n",
              "      <td>Yes</td>\n",
              "      <td>No</td>\n",
              "      <td>No</td>\n",
              "      <td>No</td>\n",
              "      <td>One year</td>\n",
              "      <td>No</td>\n",
              "      <td>Mailed check</td>\n",
              "      <td>56.95</td>\n",
              "      <td>1889.5</td>\n",
              "      <td>No</td>\n",
              "    </tr>\n",
              "    <tr>\n",
              "      <th>2</th>\n",
              "      <td>Male</td>\n",
              "      <td>0</td>\n",
              "      <td>No</td>\n",
              "      <td>No</td>\n",
              "      <td>2</td>\n",
              "      <td>Yes</td>\n",
              "      <td>No</td>\n",
              "      <td>DSL</td>\n",
              "      <td>Yes</td>\n",
              "      <td>Yes</td>\n",
              "      <td>No</td>\n",
              "      <td>No</td>\n",
              "      <td>No</td>\n",
              "      <td>No</td>\n",
              "      <td>Month-to-month</td>\n",
              "      <td>Yes</td>\n",
              "      <td>Mailed check</td>\n",
              "      <td>53.85</td>\n",
              "      <td>108.15</td>\n",
              "      <td>Yes</td>\n",
              "    </tr>\n",
              "    <tr>\n",
              "      <th>3</th>\n",
              "      <td>Male</td>\n",
              "      <td>0</td>\n",
              "      <td>No</td>\n",
              "      <td>No</td>\n",
              "      <td>45</td>\n",
              "      <td>No</td>\n",
              "      <td>No phone service</td>\n",
              "      <td>DSL</td>\n",
              "      <td>Yes</td>\n",
              "      <td>No</td>\n",
              "      <td>Yes</td>\n",
              "      <td>Yes</td>\n",
              "      <td>No</td>\n",
              "      <td>No</td>\n",
              "      <td>One year</td>\n",
              "      <td>No</td>\n",
              "      <td>Bank transfer (automatic)</td>\n",
              "      <td>42.30</td>\n",
              "      <td>1840.75</td>\n",
              "      <td>No</td>\n",
              "    </tr>\n",
              "    <tr>\n",
              "      <th>4</th>\n",
              "      <td>Female</td>\n",
              "      <td>0</td>\n",
              "      <td>No</td>\n",
              "      <td>No</td>\n",
              "      <td>2</td>\n",
              "      <td>Yes</td>\n",
              "      <td>No</td>\n",
              "      <td>Fiber optic</td>\n",
              "      <td>No</td>\n",
              "      <td>No</td>\n",
              "      <td>No</td>\n",
              "      <td>No</td>\n",
              "      <td>No</td>\n",
              "      <td>No</td>\n",
              "      <td>Month-to-month</td>\n",
              "      <td>Yes</td>\n",
              "      <td>Electronic check</td>\n",
              "      <td>70.70</td>\n",
              "      <td>151.65</td>\n",
              "      <td>Yes</td>\n",
              "    </tr>\n",
              "  </tbody>\n",
              "</table>\n",
              "</div>"
            ],
            "text/plain": [
              "   gender  SeniorCitizen Partner  ... MonthlyCharges  TotalCharges Churn\n",
              "0  Female              0     Yes  ...          29.85         29.85    No\n",
              "1    Male              0      No  ...          56.95        1889.5    No\n",
              "2    Male              0      No  ...          53.85        108.15   Yes\n",
              "3    Male              0      No  ...          42.30       1840.75    No\n",
              "4  Female              0      No  ...          70.70        151.65   Yes\n",
              "\n",
              "[5 rows x 20 columns]"
            ]
          },
          "metadata": {
            "tags": []
          },
          "execution_count": 84
        }
      ]
    },
    {
      "cell_type": "markdown",
      "metadata": {
        "id": "jrjkjHbz9MeE"
      },
      "source": [
        "> Also we need to set the `Churn` feature which is our dependent feature to `0`s and `1`s."
      ]
    },
    {
      "cell_type": "code",
      "metadata": {
        "colab": {
          "base_uri": "https://localhost:8080/",
          "height": 276
        },
        "id": "zK5avhHLLGB_",
        "outputId": "44dc9207-4663-4748-b34b-de3a40ab93ea"
      },
      "source": [
        "df.loc[df['Churn'] == 'Yes', 'Churn'] = 1\n",
        "df.loc[df['Churn'] == 'No', 'Churn'] = 0\n",
        "df.head()"
      ],
      "execution_count": 85,
      "outputs": [
        {
          "output_type": "execute_result",
          "data": {
            "text/html": [
              "<div>\n",
              "<style scoped>\n",
              "    .dataframe tbody tr th:only-of-type {\n",
              "        vertical-align: middle;\n",
              "    }\n",
              "\n",
              "    .dataframe tbody tr th {\n",
              "        vertical-align: top;\n",
              "    }\n",
              "\n",
              "    .dataframe thead th {\n",
              "        text-align: right;\n",
              "    }\n",
              "</style>\n",
              "<table border=\"1\" class=\"dataframe\">\n",
              "  <thead>\n",
              "    <tr style=\"text-align: right;\">\n",
              "      <th></th>\n",
              "      <th>gender</th>\n",
              "      <th>SeniorCitizen</th>\n",
              "      <th>Partner</th>\n",
              "      <th>Dependents</th>\n",
              "      <th>tenure</th>\n",
              "      <th>PhoneService</th>\n",
              "      <th>MultipleLines</th>\n",
              "      <th>InternetService</th>\n",
              "      <th>OnlineSecurity</th>\n",
              "      <th>OnlineBackup</th>\n",
              "      <th>DeviceProtection</th>\n",
              "      <th>TechSupport</th>\n",
              "      <th>StreamingTV</th>\n",
              "      <th>StreamingMovies</th>\n",
              "      <th>Contract</th>\n",
              "      <th>PaperlessBilling</th>\n",
              "      <th>PaymentMethod</th>\n",
              "      <th>MonthlyCharges</th>\n",
              "      <th>TotalCharges</th>\n",
              "      <th>Churn</th>\n",
              "    </tr>\n",
              "  </thead>\n",
              "  <tbody>\n",
              "    <tr>\n",
              "      <th>0</th>\n",
              "      <td>Female</td>\n",
              "      <td>0</td>\n",
              "      <td>Yes</td>\n",
              "      <td>No</td>\n",
              "      <td>1</td>\n",
              "      <td>No</td>\n",
              "      <td>No phone service</td>\n",
              "      <td>DSL</td>\n",
              "      <td>No</td>\n",
              "      <td>Yes</td>\n",
              "      <td>No</td>\n",
              "      <td>No</td>\n",
              "      <td>No</td>\n",
              "      <td>No</td>\n",
              "      <td>Month-to-month</td>\n",
              "      <td>Yes</td>\n",
              "      <td>Electronic check</td>\n",
              "      <td>29.85</td>\n",
              "      <td>29.85</td>\n",
              "      <td>0</td>\n",
              "    </tr>\n",
              "    <tr>\n",
              "      <th>1</th>\n",
              "      <td>Male</td>\n",
              "      <td>0</td>\n",
              "      <td>No</td>\n",
              "      <td>No</td>\n",
              "      <td>34</td>\n",
              "      <td>Yes</td>\n",
              "      <td>No</td>\n",
              "      <td>DSL</td>\n",
              "      <td>Yes</td>\n",
              "      <td>No</td>\n",
              "      <td>Yes</td>\n",
              "      <td>No</td>\n",
              "      <td>No</td>\n",
              "      <td>No</td>\n",
              "      <td>One year</td>\n",
              "      <td>No</td>\n",
              "      <td>Mailed check</td>\n",
              "      <td>56.95</td>\n",
              "      <td>1889.5</td>\n",
              "      <td>0</td>\n",
              "    </tr>\n",
              "    <tr>\n",
              "      <th>2</th>\n",
              "      <td>Male</td>\n",
              "      <td>0</td>\n",
              "      <td>No</td>\n",
              "      <td>No</td>\n",
              "      <td>2</td>\n",
              "      <td>Yes</td>\n",
              "      <td>No</td>\n",
              "      <td>DSL</td>\n",
              "      <td>Yes</td>\n",
              "      <td>Yes</td>\n",
              "      <td>No</td>\n",
              "      <td>No</td>\n",
              "      <td>No</td>\n",
              "      <td>No</td>\n",
              "      <td>Month-to-month</td>\n",
              "      <td>Yes</td>\n",
              "      <td>Mailed check</td>\n",
              "      <td>53.85</td>\n",
              "      <td>108.15</td>\n",
              "      <td>1</td>\n",
              "    </tr>\n",
              "    <tr>\n",
              "      <th>3</th>\n",
              "      <td>Male</td>\n",
              "      <td>0</td>\n",
              "      <td>No</td>\n",
              "      <td>No</td>\n",
              "      <td>45</td>\n",
              "      <td>No</td>\n",
              "      <td>No phone service</td>\n",
              "      <td>DSL</td>\n",
              "      <td>Yes</td>\n",
              "      <td>No</td>\n",
              "      <td>Yes</td>\n",
              "      <td>Yes</td>\n",
              "      <td>No</td>\n",
              "      <td>No</td>\n",
              "      <td>One year</td>\n",
              "      <td>No</td>\n",
              "      <td>Bank transfer (automatic)</td>\n",
              "      <td>42.30</td>\n",
              "      <td>1840.75</td>\n",
              "      <td>0</td>\n",
              "    </tr>\n",
              "    <tr>\n",
              "      <th>4</th>\n",
              "      <td>Female</td>\n",
              "      <td>0</td>\n",
              "      <td>No</td>\n",
              "      <td>No</td>\n",
              "      <td>2</td>\n",
              "      <td>Yes</td>\n",
              "      <td>No</td>\n",
              "      <td>Fiber optic</td>\n",
              "      <td>No</td>\n",
              "      <td>No</td>\n",
              "      <td>No</td>\n",
              "      <td>No</td>\n",
              "      <td>No</td>\n",
              "      <td>No</td>\n",
              "      <td>Month-to-month</td>\n",
              "      <td>Yes</td>\n",
              "      <td>Electronic check</td>\n",
              "      <td>70.70</td>\n",
              "      <td>151.65</td>\n",
              "      <td>1</td>\n",
              "    </tr>\n",
              "  </tbody>\n",
              "</table>\n",
              "</div>"
            ],
            "text/plain": [
              "   gender  SeniorCitizen Partner  ... MonthlyCharges  TotalCharges Churn\n",
              "0  Female              0     Yes  ...          29.85         29.85     0\n",
              "1    Male              0      No  ...          56.95        1889.5     0\n",
              "2    Male              0      No  ...          53.85        108.15     1\n",
              "3    Male              0      No  ...          42.30       1840.75     0\n",
              "4  Female              0      No  ...          70.70        151.65     1\n",
              "\n",
              "[5 rows x 20 columns]"
            ]
          },
          "metadata": {
            "tags": []
          },
          "execution_count": 85
        }
      ]
    },
    {
      "cell_type": "markdown",
      "metadata": {
        "id": "_2RUXUl96RHB"
      },
      "source": [
        "## Missing Data"
      ]
    },
    {
      "cell_type": "code",
      "metadata": {
        "colab": {
          "base_uri": "https://localhost:8080/"
        },
        "id": "55KTlMhE1MsC",
        "outputId": "4c2169b7-0deb-41da-d057-e651be978e17"
      },
      "source": [
        "df.dtypes"
      ],
      "execution_count": 70,
      "outputs": [
        {
          "output_type": "execute_result",
          "data": {
            "text/plain": [
              "gender               object\n",
              "SeniorCitizen         int64\n",
              "Partner              object\n",
              "Dependents           object\n",
              "tenure                int64\n",
              "PhoneService         object\n",
              "MultipleLines        object\n",
              "InternetService      object\n",
              "OnlineSecurity       object\n",
              "OnlineBackup         object\n",
              "DeviceProtection     object\n",
              "TechSupport          object\n",
              "StreamingTV          object\n",
              "StreamingMovies      object\n",
              "Contract             object\n",
              "PaperlessBilling     object\n",
              "PaymentMethod        object\n",
              "MonthlyCharges      float64\n",
              "TotalCharges         object\n",
              "Churn                object\n",
              "dtype: object"
            ]
          },
          "metadata": {
            "tags": []
          },
          "execution_count": 70
        }
      ]
    },
    {
      "cell_type": "markdown",
      "metadata": {
        "id": "RtkSNzoA5BuY"
      },
      "source": [
        "> If we look at the output from `info()`, **TotalCharges** looks like it contains numbers, not text, but the `object` datatype suggests that it contains more than just numbers. If we try the trick of printing out the unique values..."
      ]
    },
    {
      "cell_type": "code",
      "metadata": {
        "colab": {
          "base_uri": "https://localhost:8080/"
        },
        "id": "fRKdeUgk3lMI",
        "outputId": "75719e69-6fe0-4d18-e0c0-f5a40d4a4874"
      },
      "source": [
        "df.TotalCharges.unique()"
      ],
      "execution_count": 86,
      "outputs": [
        {
          "output_type": "execute_result",
          "data": {
            "text/plain": [
              "array(['29.85', '1889.5', '108.15', ..., '346.45', '306.6', '6844.5'],\n",
              "      dtype=object)"
            ]
          },
          "metadata": {
            "tags": []
          },
          "execution_count": 86
        }
      ]
    },
    {
      "cell_type": "markdown",
      "metadata": {
        "id": "TgJACM1e5gr8"
      },
      "source": [
        "> ...We see that there are too many values to print and what little we see looks like numbers. However, if we try to convert the column to numeric values..."
      ]
    },
    {
      "cell_type": "code",
      "metadata": {
        "colab": {
          "base_uri": "https://localhost:8080/",
          "height": 418
        },
        "id": "Z0SC4hQ54EU4",
        "outputId": "342ed369-18d9-4eaa-af26-051763464fc5"
      },
      "source": [
        "df['TotalCharges'] = pd.to_numeric(df['TotalCharges'])"
      ],
      "execution_count": 72,
      "outputs": [
        {
          "output_type": "error",
          "ename": "ValueError",
          "evalue": "ignored",
          "traceback": [
            "\u001b[0;31m---------------------------------------------------------------------------\u001b[0m",
            "\u001b[0;31mValueError\u001b[0m                                Traceback (most recent call last)",
            "\u001b[0;32mpandas/_libs/lib.pyx\u001b[0m in \u001b[0;36mpandas._libs.lib.maybe_convert_numeric\u001b[0;34m()\u001b[0m\n",
            "\u001b[0;31mValueError\u001b[0m: Unable to parse string \" \"",
            "\nDuring handling of the above exception, another exception occurred:\n",
            "\u001b[0;31mValueError\u001b[0m                                Traceback (most recent call last)",
            "\u001b[0;32m<ipython-input-72-1b11d6a2f456>\u001b[0m in \u001b[0;36m<module>\u001b[0;34m()\u001b[0m\n\u001b[0;32m----> 1\u001b[0;31m \u001b[0mdf\u001b[0m\u001b[0;34m[\u001b[0m\u001b[0;34m'TotalCharges'\u001b[0m\u001b[0;34m]\u001b[0m \u001b[0;34m=\u001b[0m \u001b[0mpd\u001b[0m\u001b[0;34m.\u001b[0m\u001b[0mto_numeric\u001b[0m\u001b[0;34m(\u001b[0m\u001b[0mdf\u001b[0m\u001b[0;34m[\u001b[0m\u001b[0;34m'TotalCharges'\u001b[0m\u001b[0;34m]\u001b[0m\u001b[0;34m)\u001b[0m\u001b[0;34m\u001b[0m\u001b[0;34m\u001b[0m\u001b[0m\n\u001b[0m",
            "\u001b[0;32m/usr/local/lib/python3.7/dist-packages/pandas/core/tools/numeric.py\u001b[0m in \u001b[0;36mto_numeric\u001b[0;34m(arg, errors, downcast)\u001b[0m\n\u001b[1;32m    151\u001b[0m         \u001b[0;32mtry\u001b[0m\u001b[0;34m:\u001b[0m\u001b[0;34m\u001b[0m\u001b[0;34m\u001b[0m\u001b[0m\n\u001b[1;32m    152\u001b[0m             values = lib.maybe_convert_numeric(\n\u001b[0;32m--> 153\u001b[0;31m                 \u001b[0mvalues\u001b[0m\u001b[0;34m,\u001b[0m \u001b[0mset\u001b[0m\u001b[0;34m(\u001b[0m\u001b[0;34m)\u001b[0m\u001b[0;34m,\u001b[0m \u001b[0mcoerce_numeric\u001b[0m\u001b[0;34m=\u001b[0m\u001b[0mcoerce_numeric\u001b[0m\u001b[0;34m\u001b[0m\u001b[0;34m\u001b[0m\u001b[0m\n\u001b[0m\u001b[1;32m    154\u001b[0m             )\n\u001b[1;32m    155\u001b[0m         \u001b[0;32mexcept\u001b[0m \u001b[0;34m(\u001b[0m\u001b[0mValueError\u001b[0m\u001b[0;34m,\u001b[0m \u001b[0mTypeError\u001b[0m\u001b[0;34m)\u001b[0m\u001b[0;34m:\u001b[0m\u001b[0;34m\u001b[0m\u001b[0;34m\u001b[0m\u001b[0m\n",
            "\u001b[0;32mpandas/_libs/lib.pyx\u001b[0m in \u001b[0;36mpandas._libs.lib.maybe_convert_numeric\u001b[0;34m()\u001b[0m\n",
            "\u001b[0;31mValueError\u001b[0m: Unable to parse string \" \" at position 488"
          ]
        }
      ]
    },
    {
      "cell_type": "markdown",
      "metadata": {
        "id": "StKQfBI44m-A"
      },
      "source": [
        "> ...we get an error. This error, however, tells us what the problem is. There are blank spaces \" \", in the data. So we need to deal with those."
      ]
    },
    {
      "cell_type": "markdown",
      "metadata": {
        "id": "fSl_alvM6VgU"
      },
      "source": [
        "## Dealing with Missing Data, XGBoost Style\n",
        "> One thing that is relatively unique about `XGBoost` is that it determines default behavior for missing data. So all we have to do is identify missing values and make sure they are set to `0`\n",
        "\n",
        "> However, before we do that, let's see how many rows are missing data. If it's a lot, then we might have a problem on our hands that is bigger than what `XGBoost` can deal with on its own. If it's not that many, we can just set them to `0`"
      ]
    },
    {
      "cell_type": "code",
      "metadata": {
        "colab": {
          "base_uri": "https://localhost:8080/"
        },
        "id": "pUnVV4i54dAD",
        "outputId": "c09a5eb3-84a8-45d3-bc10-d81f76e88ca2"
      },
      "source": [
        "len(df.loc[df['TotalCharges'] == ' '])"
      ],
      "execution_count": 87,
      "outputs": [
        {
          "output_type": "execute_result",
          "data": {
            "text/plain": [
              "11"
            ]
          },
          "metadata": {
            "tags": []
          },
          "execution_count": 87
        }
      ]
    },
    {
      "cell_type": "markdown",
      "metadata": {
        "id": "SEEnA1wG7pFZ"
      },
      "source": [
        "> Since only `11` rows have missing values, let's look at them."
      ]
    },
    {
      "cell_type": "code",
      "metadata": {
        "colab": {
          "base_uri": "https://localhost:8080/",
          "height": 530
        },
        "id": "hLM1Z8q07nnL",
        "outputId": "311337ed-522c-49e2-bfaa-20f3de289c9a"
      },
      "source": [
        "df.loc[df['TotalCharges'] == ' ']"
      ],
      "execution_count": 88,
      "outputs": [
        {
          "output_type": "execute_result",
          "data": {
            "text/html": [
              "<div>\n",
              "<style scoped>\n",
              "    .dataframe tbody tr th:only-of-type {\n",
              "        vertical-align: middle;\n",
              "    }\n",
              "\n",
              "    .dataframe tbody tr th {\n",
              "        vertical-align: top;\n",
              "    }\n",
              "\n",
              "    .dataframe thead th {\n",
              "        text-align: right;\n",
              "    }\n",
              "</style>\n",
              "<table border=\"1\" class=\"dataframe\">\n",
              "  <thead>\n",
              "    <tr style=\"text-align: right;\">\n",
              "      <th></th>\n",
              "      <th>gender</th>\n",
              "      <th>SeniorCitizen</th>\n",
              "      <th>Partner</th>\n",
              "      <th>Dependents</th>\n",
              "      <th>tenure</th>\n",
              "      <th>PhoneService</th>\n",
              "      <th>MultipleLines</th>\n",
              "      <th>InternetService</th>\n",
              "      <th>OnlineSecurity</th>\n",
              "      <th>OnlineBackup</th>\n",
              "      <th>DeviceProtection</th>\n",
              "      <th>TechSupport</th>\n",
              "      <th>StreamingTV</th>\n",
              "      <th>StreamingMovies</th>\n",
              "      <th>Contract</th>\n",
              "      <th>PaperlessBilling</th>\n",
              "      <th>PaymentMethod</th>\n",
              "      <th>MonthlyCharges</th>\n",
              "      <th>TotalCharges</th>\n",
              "      <th>Churn</th>\n",
              "    </tr>\n",
              "  </thead>\n",
              "  <tbody>\n",
              "    <tr>\n",
              "      <th>488</th>\n",
              "      <td>Female</td>\n",
              "      <td>0</td>\n",
              "      <td>Yes</td>\n",
              "      <td>Yes</td>\n",
              "      <td>0</td>\n",
              "      <td>No</td>\n",
              "      <td>No phone service</td>\n",
              "      <td>DSL</td>\n",
              "      <td>Yes</td>\n",
              "      <td>No</td>\n",
              "      <td>Yes</td>\n",
              "      <td>Yes</td>\n",
              "      <td>Yes</td>\n",
              "      <td>No</td>\n",
              "      <td>Two year</td>\n",
              "      <td>Yes</td>\n",
              "      <td>Bank transfer (automatic)</td>\n",
              "      <td>52.55</td>\n",
              "      <td></td>\n",
              "      <td>0</td>\n",
              "    </tr>\n",
              "    <tr>\n",
              "      <th>753</th>\n",
              "      <td>Male</td>\n",
              "      <td>0</td>\n",
              "      <td>No</td>\n",
              "      <td>Yes</td>\n",
              "      <td>0</td>\n",
              "      <td>Yes</td>\n",
              "      <td>No</td>\n",
              "      <td>No</td>\n",
              "      <td>No internet service</td>\n",
              "      <td>No internet service</td>\n",
              "      <td>No internet service</td>\n",
              "      <td>No internet service</td>\n",
              "      <td>No internet service</td>\n",
              "      <td>No internet service</td>\n",
              "      <td>Two year</td>\n",
              "      <td>No</td>\n",
              "      <td>Mailed check</td>\n",
              "      <td>20.25</td>\n",
              "      <td></td>\n",
              "      <td>0</td>\n",
              "    </tr>\n",
              "    <tr>\n",
              "      <th>936</th>\n",
              "      <td>Female</td>\n",
              "      <td>0</td>\n",
              "      <td>Yes</td>\n",
              "      <td>Yes</td>\n",
              "      <td>0</td>\n",
              "      <td>Yes</td>\n",
              "      <td>No</td>\n",
              "      <td>DSL</td>\n",
              "      <td>Yes</td>\n",
              "      <td>Yes</td>\n",
              "      <td>Yes</td>\n",
              "      <td>No</td>\n",
              "      <td>Yes</td>\n",
              "      <td>Yes</td>\n",
              "      <td>Two year</td>\n",
              "      <td>No</td>\n",
              "      <td>Mailed check</td>\n",
              "      <td>80.85</td>\n",
              "      <td></td>\n",
              "      <td>0</td>\n",
              "    </tr>\n",
              "    <tr>\n",
              "      <th>1082</th>\n",
              "      <td>Male</td>\n",
              "      <td>0</td>\n",
              "      <td>Yes</td>\n",
              "      <td>Yes</td>\n",
              "      <td>0</td>\n",
              "      <td>Yes</td>\n",
              "      <td>Yes</td>\n",
              "      <td>No</td>\n",
              "      <td>No internet service</td>\n",
              "      <td>No internet service</td>\n",
              "      <td>No internet service</td>\n",
              "      <td>No internet service</td>\n",
              "      <td>No internet service</td>\n",
              "      <td>No internet service</td>\n",
              "      <td>Two year</td>\n",
              "      <td>No</td>\n",
              "      <td>Mailed check</td>\n",
              "      <td>25.75</td>\n",
              "      <td></td>\n",
              "      <td>0</td>\n",
              "    </tr>\n",
              "    <tr>\n",
              "      <th>1340</th>\n",
              "      <td>Female</td>\n",
              "      <td>0</td>\n",
              "      <td>Yes</td>\n",
              "      <td>Yes</td>\n",
              "      <td>0</td>\n",
              "      <td>No</td>\n",
              "      <td>No phone service</td>\n",
              "      <td>DSL</td>\n",
              "      <td>Yes</td>\n",
              "      <td>Yes</td>\n",
              "      <td>Yes</td>\n",
              "      <td>Yes</td>\n",
              "      <td>Yes</td>\n",
              "      <td>No</td>\n",
              "      <td>Two year</td>\n",
              "      <td>No</td>\n",
              "      <td>Credit card (automatic)</td>\n",
              "      <td>56.05</td>\n",
              "      <td></td>\n",
              "      <td>0</td>\n",
              "    </tr>\n",
              "    <tr>\n",
              "      <th>3331</th>\n",
              "      <td>Male</td>\n",
              "      <td>0</td>\n",
              "      <td>Yes</td>\n",
              "      <td>Yes</td>\n",
              "      <td>0</td>\n",
              "      <td>Yes</td>\n",
              "      <td>No</td>\n",
              "      <td>No</td>\n",
              "      <td>No internet service</td>\n",
              "      <td>No internet service</td>\n",
              "      <td>No internet service</td>\n",
              "      <td>No internet service</td>\n",
              "      <td>No internet service</td>\n",
              "      <td>No internet service</td>\n",
              "      <td>Two year</td>\n",
              "      <td>No</td>\n",
              "      <td>Mailed check</td>\n",
              "      <td>19.85</td>\n",
              "      <td></td>\n",
              "      <td>0</td>\n",
              "    </tr>\n",
              "    <tr>\n",
              "      <th>3826</th>\n",
              "      <td>Male</td>\n",
              "      <td>0</td>\n",
              "      <td>Yes</td>\n",
              "      <td>Yes</td>\n",
              "      <td>0</td>\n",
              "      <td>Yes</td>\n",
              "      <td>Yes</td>\n",
              "      <td>No</td>\n",
              "      <td>No internet service</td>\n",
              "      <td>No internet service</td>\n",
              "      <td>No internet service</td>\n",
              "      <td>No internet service</td>\n",
              "      <td>No internet service</td>\n",
              "      <td>No internet service</td>\n",
              "      <td>Two year</td>\n",
              "      <td>No</td>\n",
              "      <td>Mailed check</td>\n",
              "      <td>25.35</td>\n",
              "      <td></td>\n",
              "      <td>0</td>\n",
              "    </tr>\n",
              "    <tr>\n",
              "      <th>4380</th>\n",
              "      <td>Female</td>\n",
              "      <td>0</td>\n",
              "      <td>Yes</td>\n",
              "      <td>Yes</td>\n",
              "      <td>0</td>\n",
              "      <td>Yes</td>\n",
              "      <td>No</td>\n",
              "      <td>No</td>\n",
              "      <td>No internet service</td>\n",
              "      <td>No internet service</td>\n",
              "      <td>No internet service</td>\n",
              "      <td>No internet service</td>\n",
              "      <td>No internet service</td>\n",
              "      <td>No internet service</td>\n",
              "      <td>Two year</td>\n",
              "      <td>No</td>\n",
              "      <td>Mailed check</td>\n",
              "      <td>20.00</td>\n",
              "      <td></td>\n",
              "      <td>0</td>\n",
              "    </tr>\n",
              "    <tr>\n",
              "      <th>5218</th>\n",
              "      <td>Male</td>\n",
              "      <td>0</td>\n",
              "      <td>Yes</td>\n",
              "      <td>Yes</td>\n",
              "      <td>0</td>\n",
              "      <td>Yes</td>\n",
              "      <td>No</td>\n",
              "      <td>No</td>\n",
              "      <td>No internet service</td>\n",
              "      <td>No internet service</td>\n",
              "      <td>No internet service</td>\n",
              "      <td>No internet service</td>\n",
              "      <td>No internet service</td>\n",
              "      <td>No internet service</td>\n",
              "      <td>One year</td>\n",
              "      <td>Yes</td>\n",
              "      <td>Mailed check</td>\n",
              "      <td>19.70</td>\n",
              "      <td></td>\n",
              "      <td>0</td>\n",
              "    </tr>\n",
              "    <tr>\n",
              "      <th>6670</th>\n",
              "      <td>Female</td>\n",
              "      <td>0</td>\n",
              "      <td>Yes</td>\n",
              "      <td>Yes</td>\n",
              "      <td>0</td>\n",
              "      <td>Yes</td>\n",
              "      <td>Yes</td>\n",
              "      <td>DSL</td>\n",
              "      <td>No</td>\n",
              "      <td>Yes</td>\n",
              "      <td>Yes</td>\n",
              "      <td>Yes</td>\n",
              "      <td>Yes</td>\n",
              "      <td>No</td>\n",
              "      <td>Two year</td>\n",
              "      <td>No</td>\n",
              "      <td>Mailed check</td>\n",
              "      <td>73.35</td>\n",
              "      <td></td>\n",
              "      <td>0</td>\n",
              "    </tr>\n",
              "    <tr>\n",
              "      <th>6754</th>\n",
              "      <td>Male</td>\n",
              "      <td>0</td>\n",
              "      <td>No</td>\n",
              "      <td>Yes</td>\n",
              "      <td>0</td>\n",
              "      <td>Yes</td>\n",
              "      <td>Yes</td>\n",
              "      <td>DSL</td>\n",
              "      <td>Yes</td>\n",
              "      <td>Yes</td>\n",
              "      <td>No</td>\n",
              "      <td>Yes</td>\n",
              "      <td>No</td>\n",
              "      <td>No</td>\n",
              "      <td>Two year</td>\n",
              "      <td>Yes</td>\n",
              "      <td>Bank transfer (automatic)</td>\n",
              "      <td>61.90</td>\n",
              "      <td></td>\n",
              "      <td>0</td>\n",
              "    </tr>\n",
              "  </tbody>\n",
              "</table>\n",
              "</div>"
            ],
            "text/plain": [
              "      gender  SeniorCitizen Partner  ... MonthlyCharges  TotalCharges Churn\n",
              "488   Female              0     Yes  ...          52.55                   0\n",
              "753     Male              0      No  ...          20.25                   0\n",
              "936   Female              0     Yes  ...          80.85                   0\n",
              "1082    Male              0     Yes  ...          25.75                   0\n",
              "1340  Female              0     Yes  ...          56.05                   0\n",
              "3331    Male              0     Yes  ...          19.85                   0\n",
              "3826    Male              0     Yes  ...          25.35                   0\n",
              "4380  Female              0     Yes  ...          20.00                   0\n",
              "5218    Male              0     Yes  ...          19.70                   0\n",
              "6670  Female              0     Yes  ...          73.35                   0\n",
              "6754    Male              0      No  ...          61.90                   0\n",
              "\n",
              "[11 rows x 20 columns]"
            ]
          },
          "metadata": {
            "tags": []
          },
          "execution_count": 88
        }
      ]
    },
    {
      "cell_type": "markdown",
      "metadata": {
        "id": "U4L7_2br8LnQ"
      },
      "source": [
        "> We see that all `11` people with `TotalCharges == \" \"` have just signed up, because `tenure` is `0`. These people also all have `Churn` equal to `0` because they just signed up. So we have a few choices here, we can set `TotalCharges` to `0` for those `11` people or we can remove them. In this example, we'll try setting `TotalCharges` to `0`"
      ]
    },
    {
      "cell_type": "code",
      "metadata": {
        "id": "EQiNBI1x78EY"
      },
      "source": [
        "df.loc[(df['TotalCharges'] == ' '), 'TotalCharges'] = 0"
      ],
      "execution_count": 89,
      "outputs": []
    },
    {
      "cell_type": "markdown",
      "metadata": {
        "id": "qhg8tFYeMUQN"
      },
      "source": [
        "> Now let's verify that we modified `TotalCharges` correctly by looking at everyone who had `tenure` set to `0`"
      ]
    },
    {
      "cell_type": "code",
      "metadata": {
        "colab": {
          "base_uri": "https://localhost:8080/",
          "height": 530
        },
        "id": "XD5qI8NbyRqj",
        "outputId": "65f3682c-1c30-4564-bd78-5b7209ab3e1f"
      },
      "source": [
        "df.loc[df['tenure'] == 0]"
      ],
      "execution_count": 90,
      "outputs": [
        {
          "output_type": "execute_result",
          "data": {
            "text/html": [
              "<div>\n",
              "<style scoped>\n",
              "    .dataframe tbody tr th:only-of-type {\n",
              "        vertical-align: middle;\n",
              "    }\n",
              "\n",
              "    .dataframe tbody tr th {\n",
              "        vertical-align: top;\n",
              "    }\n",
              "\n",
              "    .dataframe thead th {\n",
              "        text-align: right;\n",
              "    }\n",
              "</style>\n",
              "<table border=\"1\" class=\"dataframe\">\n",
              "  <thead>\n",
              "    <tr style=\"text-align: right;\">\n",
              "      <th></th>\n",
              "      <th>gender</th>\n",
              "      <th>SeniorCitizen</th>\n",
              "      <th>Partner</th>\n",
              "      <th>Dependents</th>\n",
              "      <th>tenure</th>\n",
              "      <th>PhoneService</th>\n",
              "      <th>MultipleLines</th>\n",
              "      <th>InternetService</th>\n",
              "      <th>OnlineSecurity</th>\n",
              "      <th>OnlineBackup</th>\n",
              "      <th>DeviceProtection</th>\n",
              "      <th>TechSupport</th>\n",
              "      <th>StreamingTV</th>\n",
              "      <th>StreamingMovies</th>\n",
              "      <th>Contract</th>\n",
              "      <th>PaperlessBilling</th>\n",
              "      <th>PaymentMethod</th>\n",
              "      <th>MonthlyCharges</th>\n",
              "      <th>TotalCharges</th>\n",
              "      <th>Churn</th>\n",
              "    </tr>\n",
              "  </thead>\n",
              "  <tbody>\n",
              "    <tr>\n",
              "      <th>488</th>\n",
              "      <td>Female</td>\n",
              "      <td>0</td>\n",
              "      <td>Yes</td>\n",
              "      <td>Yes</td>\n",
              "      <td>0</td>\n",
              "      <td>No</td>\n",
              "      <td>No phone service</td>\n",
              "      <td>DSL</td>\n",
              "      <td>Yes</td>\n",
              "      <td>No</td>\n",
              "      <td>Yes</td>\n",
              "      <td>Yes</td>\n",
              "      <td>Yes</td>\n",
              "      <td>No</td>\n",
              "      <td>Two year</td>\n",
              "      <td>Yes</td>\n",
              "      <td>Bank transfer (automatic)</td>\n",
              "      <td>52.55</td>\n",
              "      <td>0</td>\n",
              "      <td>0</td>\n",
              "    </tr>\n",
              "    <tr>\n",
              "      <th>753</th>\n",
              "      <td>Male</td>\n",
              "      <td>0</td>\n",
              "      <td>No</td>\n",
              "      <td>Yes</td>\n",
              "      <td>0</td>\n",
              "      <td>Yes</td>\n",
              "      <td>No</td>\n",
              "      <td>No</td>\n",
              "      <td>No internet service</td>\n",
              "      <td>No internet service</td>\n",
              "      <td>No internet service</td>\n",
              "      <td>No internet service</td>\n",
              "      <td>No internet service</td>\n",
              "      <td>No internet service</td>\n",
              "      <td>Two year</td>\n",
              "      <td>No</td>\n",
              "      <td>Mailed check</td>\n",
              "      <td>20.25</td>\n",
              "      <td>0</td>\n",
              "      <td>0</td>\n",
              "    </tr>\n",
              "    <tr>\n",
              "      <th>936</th>\n",
              "      <td>Female</td>\n",
              "      <td>0</td>\n",
              "      <td>Yes</td>\n",
              "      <td>Yes</td>\n",
              "      <td>0</td>\n",
              "      <td>Yes</td>\n",
              "      <td>No</td>\n",
              "      <td>DSL</td>\n",
              "      <td>Yes</td>\n",
              "      <td>Yes</td>\n",
              "      <td>Yes</td>\n",
              "      <td>No</td>\n",
              "      <td>Yes</td>\n",
              "      <td>Yes</td>\n",
              "      <td>Two year</td>\n",
              "      <td>No</td>\n",
              "      <td>Mailed check</td>\n",
              "      <td>80.85</td>\n",
              "      <td>0</td>\n",
              "      <td>0</td>\n",
              "    </tr>\n",
              "    <tr>\n",
              "      <th>1082</th>\n",
              "      <td>Male</td>\n",
              "      <td>0</td>\n",
              "      <td>Yes</td>\n",
              "      <td>Yes</td>\n",
              "      <td>0</td>\n",
              "      <td>Yes</td>\n",
              "      <td>Yes</td>\n",
              "      <td>No</td>\n",
              "      <td>No internet service</td>\n",
              "      <td>No internet service</td>\n",
              "      <td>No internet service</td>\n",
              "      <td>No internet service</td>\n",
              "      <td>No internet service</td>\n",
              "      <td>No internet service</td>\n",
              "      <td>Two year</td>\n",
              "      <td>No</td>\n",
              "      <td>Mailed check</td>\n",
              "      <td>25.75</td>\n",
              "      <td>0</td>\n",
              "      <td>0</td>\n",
              "    </tr>\n",
              "    <tr>\n",
              "      <th>1340</th>\n",
              "      <td>Female</td>\n",
              "      <td>0</td>\n",
              "      <td>Yes</td>\n",
              "      <td>Yes</td>\n",
              "      <td>0</td>\n",
              "      <td>No</td>\n",
              "      <td>No phone service</td>\n",
              "      <td>DSL</td>\n",
              "      <td>Yes</td>\n",
              "      <td>Yes</td>\n",
              "      <td>Yes</td>\n",
              "      <td>Yes</td>\n",
              "      <td>Yes</td>\n",
              "      <td>No</td>\n",
              "      <td>Two year</td>\n",
              "      <td>No</td>\n",
              "      <td>Credit card (automatic)</td>\n",
              "      <td>56.05</td>\n",
              "      <td>0</td>\n",
              "      <td>0</td>\n",
              "    </tr>\n",
              "    <tr>\n",
              "      <th>3331</th>\n",
              "      <td>Male</td>\n",
              "      <td>0</td>\n",
              "      <td>Yes</td>\n",
              "      <td>Yes</td>\n",
              "      <td>0</td>\n",
              "      <td>Yes</td>\n",
              "      <td>No</td>\n",
              "      <td>No</td>\n",
              "      <td>No internet service</td>\n",
              "      <td>No internet service</td>\n",
              "      <td>No internet service</td>\n",
              "      <td>No internet service</td>\n",
              "      <td>No internet service</td>\n",
              "      <td>No internet service</td>\n",
              "      <td>Two year</td>\n",
              "      <td>No</td>\n",
              "      <td>Mailed check</td>\n",
              "      <td>19.85</td>\n",
              "      <td>0</td>\n",
              "      <td>0</td>\n",
              "    </tr>\n",
              "    <tr>\n",
              "      <th>3826</th>\n",
              "      <td>Male</td>\n",
              "      <td>0</td>\n",
              "      <td>Yes</td>\n",
              "      <td>Yes</td>\n",
              "      <td>0</td>\n",
              "      <td>Yes</td>\n",
              "      <td>Yes</td>\n",
              "      <td>No</td>\n",
              "      <td>No internet service</td>\n",
              "      <td>No internet service</td>\n",
              "      <td>No internet service</td>\n",
              "      <td>No internet service</td>\n",
              "      <td>No internet service</td>\n",
              "      <td>No internet service</td>\n",
              "      <td>Two year</td>\n",
              "      <td>No</td>\n",
              "      <td>Mailed check</td>\n",
              "      <td>25.35</td>\n",
              "      <td>0</td>\n",
              "      <td>0</td>\n",
              "    </tr>\n",
              "    <tr>\n",
              "      <th>4380</th>\n",
              "      <td>Female</td>\n",
              "      <td>0</td>\n",
              "      <td>Yes</td>\n",
              "      <td>Yes</td>\n",
              "      <td>0</td>\n",
              "      <td>Yes</td>\n",
              "      <td>No</td>\n",
              "      <td>No</td>\n",
              "      <td>No internet service</td>\n",
              "      <td>No internet service</td>\n",
              "      <td>No internet service</td>\n",
              "      <td>No internet service</td>\n",
              "      <td>No internet service</td>\n",
              "      <td>No internet service</td>\n",
              "      <td>Two year</td>\n",
              "      <td>No</td>\n",
              "      <td>Mailed check</td>\n",
              "      <td>20.00</td>\n",
              "      <td>0</td>\n",
              "      <td>0</td>\n",
              "    </tr>\n",
              "    <tr>\n",
              "      <th>5218</th>\n",
              "      <td>Male</td>\n",
              "      <td>0</td>\n",
              "      <td>Yes</td>\n",
              "      <td>Yes</td>\n",
              "      <td>0</td>\n",
              "      <td>Yes</td>\n",
              "      <td>No</td>\n",
              "      <td>No</td>\n",
              "      <td>No internet service</td>\n",
              "      <td>No internet service</td>\n",
              "      <td>No internet service</td>\n",
              "      <td>No internet service</td>\n",
              "      <td>No internet service</td>\n",
              "      <td>No internet service</td>\n",
              "      <td>One year</td>\n",
              "      <td>Yes</td>\n",
              "      <td>Mailed check</td>\n",
              "      <td>19.70</td>\n",
              "      <td>0</td>\n",
              "      <td>0</td>\n",
              "    </tr>\n",
              "    <tr>\n",
              "      <th>6670</th>\n",
              "      <td>Female</td>\n",
              "      <td>0</td>\n",
              "      <td>Yes</td>\n",
              "      <td>Yes</td>\n",
              "      <td>0</td>\n",
              "      <td>Yes</td>\n",
              "      <td>Yes</td>\n",
              "      <td>DSL</td>\n",
              "      <td>No</td>\n",
              "      <td>Yes</td>\n",
              "      <td>Yes</td>\n",
              "      <td>Yes</td>\n",
              "      <td>Yes</td>\n",
              "      <td>No</td>\n",
              "      <td>Two year</td>\n",
              "      <td>No</td>\n",
              "      <td>Mailed check</td>\n",
              "      <td>73.35</td>\n",
              "      <td>0</td>\n",
              "      <td>0</td>\n",
              "    </tr>\n",
              "    <tr>\n",
              "      <th>6754</th>\n",
              "      <td>Male</td>\n",
              "      <td>0</td>\n",
              "      <td>No</td>\n",
              "      <td>Yes</td>\n",
              "      <td>0</td>\n",
              "      <td>Yes</td>\n",
              "      <td>Yes</td>\n",
              "      <td>DSL</td>\n",
              "      <td>Yes</td>\n",
              "      <td>Yes</td>\n",
              "      <td>No</td>\n",
              "      <td>Yes</td>\n",
              "      <td>No</td>\n",
              "      <td>No</td>\n",
              "      <td>Two year</td>\n",
              "      <td>Yes</td>\n",
              "      <td>Bank transfer (automatic)</td>\n",
              "      <td>61.90</td>\n",
              "      <td>0</td>\n",
              "      <td>0</td>\n",
              "    </tr>\n",
              "  </tbody>\n",
              "</table>\n",
              "</div>"
            ],
            "text/plain": [
              "      gender  SeniorCitizen Partner  ... MonthlyCharges  TotalCharges Churn\n",
              "488   Female              0     Yes  ...          52.55             0     0\n",
              "753     Male              0      No  ...          20.25             0     0\n",
              "936   Female              0     Yes  ...          80.85             0     0\n",
              "1082    Male              0     Yes  ...          25.75             0     0\n",
              "1340  Female              0     Yes  ...          56.05             0     0\n",
              "3331    Male              0     Yes  ...          19.85             0     0\n",
              "3826    Male              0     Yes  ...          25.35             0     0\n",
              "4380  Female              0     Yes  ...          20.00             0     0\n",
              "5218    Male              0     Yes  ...          19.70             0     0\n",
              "6670  Female              0     Yes  ...          73.35             0     0\n",
              "6754    Male              0      No  ...          61.90             0     0\n",
              "\n",
              "[11 rows x 20 columns]"
            ]
          },
          "metadata": {
            "tags": []
          },
          "execution_count": 90
        }
      ]
    },
    {
      "cell_type": "markdown",
      "metadata": {
        "id": "a_0RvQFRN5bo"
      },
      "source": [
        "> We have verified that `df` contains `0`s instead of `\" \"`s for missing values. \n",
        "> ### Note\n",
        "> `TotalCharges` still has the `object` datatype. That is no good because `XGBoost` only allows `int`, `float` or `boolean` data types. We can fix this by converting it with `to_numeric()`."
      ]
    },
    {
      "cell_type": "code",
      "metadata": {
        "colab": {
          "base_uri": "https://localhost:8080/"
        },
        "id": "sn8V-HOAOsR-",
        "outputId": "3dfe979d-8bf5-4f3f-d4c1-1f3500c86c6c"
      },
      "source": [
        "df['TotalCharges'] = pd.to_numeric(df['TotalCharges'])\n",
        "df.dtypes"
      ],
      "execution_count": 91,
      "outputs": [
        {
          "output_type": "execute_result",
          "data": {
            "text/plain": [
              "gender               object\n",
              "SeniorCitizen         int64\n",
              "Partner              object\n",
              "Dependents           object\n",
              "tenure                int64\n",
              "PhoneService         object\n",
              "MultipleLines        object\n",
              "InternetService      object\n",
              "OnlineSecurity       object\n",
              "OnlineBackup         object\n",
              "DeviceProtection     object\n",
              "TechSupport          object\n",
              "StreamingTV          object\n",
              "StreamingMovies      object\n",
              "Contract             object\n",
              "PaperlessBilling     object\n",
              "PaymentMethod        object\n",
              "MonthlyCharges      float64\n",
              "TotalCharges        float64\n",
              "Churn                object\n",
              "dtype: object"
            ]
          },
          "metadata": {
            "tags": []
          },
          "execution_count": 91
        }
      ]
    },
    {
      "cell_type": "markdown",
      "metadata": {
        "id": "dWLir1dKPJLS"
      },
      "source": [
        "> Note that we have dealt with the missing data,we can replace all of the other whitespaces in all of the columns with underscores.\n",
        "> ### Note\n",
        "We are only doing this so we can draw a picture of one of the `XGBoost` trees."
      ]
    },
    {
      "cell_type": "code",
      "metadata": {
        "colab": {
          "base_uri": "https://localhost:8080/",
          "height": 260
        },
        "id": "csE46ktVPGEK",
        "outputId": "88298eb3-4496-40ce-afa8-64fd07307521"
      },
      "source": [
        "df.replace(' ', '_', regex=True, inplace=True)\n",
        "df.head()"
      ],
      "execution_count": 92,
      "outputs": [
        {
          "output_type": "execute_result",
          "data": {
            "text/html": [
              "<div>\n",
              "<style scoped>\n",
              "    .dataframe tbody tr th:only-of-type {\n",
              "        vertical-align: middle;\n",
              "    }\n",
              "\n",
              "    .dataframe tbody tr th {\n",
              "        vertical-align: top;\n",
              "    }\n",
              "\n",
              "    .dataframe thead th {\n",
              "        text-align: right;\n",
              "    }\n",
              "</style>\n",
              "<table border=\"1\" class=\"dataframe\">\n",
              "  <thead>\n",
              "    <tr style=\"text-align: right;\">\n",
              "      <th></th>\n",
              "      <th>gender</th>\n",
              "      <th>SeniorCitizen</th>\n",
              "      <th>Partner</th>\n",
              "      <th>Dependents</th>\n",
              "      <th>tenure</th>\n",
              "      <th>PhoneService</th>\n",
              "      <th>MultipleLines</th>\n",
              "      <th>InternetService</th>\n",
              "      <th>OnlineSecurity</th>\n",
              "      <th>OnlineBackup</th>\n",
              "      <th>DeviceProtection</th>\n",
              "      <th>TechSupport</th>\n",
              "      <th>StreamingTV</th>\n",
              "      <th>StreamingMovies</th>\n",
              "      <th>Contract</th>\n",
              "      <th>PaperlessBilling</th>\n",
              "      <th>PaymentMethod</th>\n",
              "      <th>MonthlyCharges</th>\n",
              "      <th>TotalCharges</th>\n",
              "      <th>Churn</th>\n",
              "    </tr>\n",
              "  </thead>\n",
              "  <tbody>\n",
              "    <tr>\n",
              "      <th>0</th>\n",
              "      <td>Female</td>\n",
              "      <td>0</td>\n",
              "      <td>Yes</td>\n",
              "      <td>No</td>\n",
              "      <td>1</td>\n",
              "      <td>No</td>\n",
              "      <td>No_phone_service</td>\n",
              "      <td>DSL</td>\n",
              "      <td>No</td>\n",
              "      <td>Yes</td>\n",
              "      <td>No</td>\n",
              "      <td>No</td>\n",
              "      <td>No</td>\n",
              "      <td>No</td>\n",
              "      <td>Month-to-month</td>\n",
              "      <td>Yes</td>\n",
              "      <td>Electronic_check</td>\n",
              "      <td>29.85</td>\n",
              "      <td>29.85</td>\n",
              "      <td>0</td>\n",
              "    </tr>\n",
              "    <tr>\n",
              "      <th>1</th>\n",
              "      <td>Male</td>\n",
              "      <td>0</td>\n",
              "      <td>No</td>\n",
              "      <td>No</td>\n",
              "      <td>34</td>\n",
              "      <td>Yes</td>\n",
              "      <td>No</td>\n",
              "      <td>DSL</td>\n",
              "      <td>Yes</td>\n",
              "      <td>No</td>\n",
              "      <td>Yes</td>\n",
              "      <td>No</td>\n",
              "      <td>No</td>\n",
              "      <td>No</td>\n",
              "      <td>One_year</td>\n",
              "      <td>No</td>\n",
              "      <td>Mailed_check</td>\n",
              "      <td>56.95</td>\n",
              "      <td>1889.50</td>\n",
              "      <td>0</td>\n",
              "    </tr>\n",
              "    <tr>\n",
              "      <th>2</th>\n",
              "      <td>Male</td>\n",
              "      <td>0</td>\n",
              "      <td>No</td>\n",
              "      <td>No</td>\n",
              "      <td>2</td>\n",
              "      <td>Yes</td>\n",
              "      <td>No</td>\n",
              "      <td>DSL</td>\n",
              "      <td>Yes</td>\n",
              "      <td>Yes</td>\n",
              "      <td>No</td>\n",
              "      <td>No</td>\n",
              "      <td>No</td>\n",
              "      <td>No</td>\n",
              "      <td>Month-to-month</td>\n",
              "      <td>Yes</td>\n",
              "      <td>Mailed_check</td>\n",
              "      <td>53.85</td>\n",
              "      <td>108.15</td>\n",
              "      <td>1</td>\n",
              "    </tr>\n",
              "    <tr>\n",
              "      <th>3</th>\n",
              "      <td>Male</td>\n",
              "      <td>0</td>\n",
              "      <td>No</td>\n",
              "      <td>No</td>\n",
              "      <td>45</td>\n",
              "      <td>No</td>\n",
              "      <td>No_phone_service</td>\n",
              "      <td>DSL</td>\n",
              "      <td>Yes</td>\n",
              "      <td>No</td>\n",
              "      <td>Yes</td>\n",
              "      <td>Yes</td>\n",
              "      <td>No</td>\n",
              "      <td>No</td>\n",
              "      <td>One_year</td>\n",
              "      <td>No</td>\n",
              "      <td>Bank_transfer_(automatic)</td>\n",
              "      <td>42.30</td>\n",
              "      <td>1840.75</td>\n",
              "      <td>0</td>\n",
              "    </tr>\n",
              "    <tr>\n",
              "      <th>4</th>\n",
              "      <td>Female</td>\n",
              "      <td>0</td>\n",
              "      <td>No</td>\n",
              "      <td>No</td>\n",
              "      <td>2</td>\n",
              "      <td>Yes</td>\n",
              "      <td>No</td>\n",
              "      <td>Fiber_optic</td>\n",
              "      <td>No</td>\n",
              "      <td>No</td>\n",
              "      <td>No</td>\n",
              "      <td>No</td>\n",
              "      <td>No</td>\n",
              "      <td>No</td>\n",
              "      <td>Month-to-month</td>\n",
              "      <td>Yes</td>\n",
              "      <td>Electronic_check</td>\n",
              "      <td>70.70</td>\n",
              "      <td>151.65</td>\n",
              "      <td>1</td>\n",
              "    </tr>\n",
              "  </tbody>\n",
              "</table>\n",
              "</div>"
            ],
            "text/plain": [
              "   gender  SeniorCitizen Partner  ... MonthlyCharges  TotalCharges Churn\n",
              "0  Female              0     Yes  ...          29.85         29.85     0\n",
              "1    Male              0      No  ...          56.95       1889.50     0\n",
              "2    Male              0      No  ...          53.85        108.15     1\n",
              "3    Male              0      No  ...          42.30       1840.75     0\n",
              "4  Female              0      No  ...          70.70        151.65     1\n",
              "\n",
              "[5 rows x 20 columns]"
            ]
          },
          "metadata": {
            "tags": []
          },
          "execution_count": 92
        }
      ]
    },
    {
      "cell_type": "markdown",
      "metadata": {
        "id": "J3cpk2P8Qgsu"
      },
      "source": [
        "## Extracting Dependent and Independent Features\n",
        "> Now we are ready to start formatting the data for making an `XGBoost` model.\n",
        "\n",
        "> The first step is to split the data into two parts:\n",
        "> <br>\n",
        "> 1. The columns of data that we will use to make classifications\n",
        "> 2. The column of data that we want to predict\n",
        "\n",
        "> ### Note\n",
        "In the code below we are using `copy()` to copy the data `by value`. By default, pandas used copy `by reference`. Using `copy()` ensures that the original data `df` is not modified when we modify `X` or `y` (Independent & Dependent datasets after extracting)."
      ]
    },
    {
      "cell_type": "code",
      "metadata": {
        "colab": {
          "base_uri": "https://localhost:8080/",
          "height": 260
        },
        "id": "lJJtojBhQIdB",
        "outputId": "08fb8fca-2d25-4bf0-f94e-54f27ee3791c"
      },
      "source": [
        "X = df.drop('Churn', axis=1).copy()\n",
        "X.head()"
      ],
      "execution_count": 97,
      "outputs": [
        {
          "output_type": "execute_result",
          "data": {
            "text/html": [
              "<div>\n",
              "<style scoped>\n",
              "    .dataframe tbody tr th:only-of-type {\n",
              "        vertical-align: middle;\n",
              "    }\n",
              "\n",
              "    .dataframe tbody tr th {\n",
              "        vertical-align: top;\n",
              "    }\n",
              "\n",
              "    .dataframe thead th {\n",
              "        text-align: right;\n",
              "    }\n",
              "</style>\n",
              "<table border=\"1\" class=\"dataframe\">\n",
              "  <thead>\n",
              "    <tr style=\"text-align: right;\">\n",
              "      <th></th>\n",
              "      <th>gender</th>\n",
              "      <th>SeniorCitizen</th>\n",
              "      <th>Partner</th>\n",
              "      <th>Dependents</th>\n",
              "      <th>tenure</th>\n",
              "      <th>PhoneService</th>\n",
              "      <th>MultipleLines</th>\n",
              "      <th>InternetService</th>\n",
              "      <th>OnlineSecurity</th>\n",
              "      <th>OnlineBackup</th>\n",
              "      <th>DeviceProtection</th>\n",
              "      <th>TechSupport</th>\n",
              "      <th>StreamingTV</th>\n",
              "      <th>StreamingMovies</th>\n",
              "      <th>Contract</th>\n",
              "      <th>PaperlessBilling</th>\n",
              "      <th>PaymentMethod</th>\n",
              "      <th>MonthlyCharges</th>\n",
              "      <th>TotalCharges</th>\n",
              "    </tr>\n",
              "  </thead>\n",
              "  <tbody>\n",
              "    <tr>\n",
              "      <th>0</th>\n",
              "      <td>Female</td>\n",
              "      <td>0</td>\n",
              "      <td>Yes</td>\n",
              "      <td>No</td>\n",
              "      <td>1</td>\n",
              "      <td>No</td>\n",
              "      <td>No_phone_service</td>\n",
              "      <td>DSL</td>\n",
              "      <td>No</td>\n",
              "      <td>Yes</td>\n",
              "      <td>No</td>\n",
              "      <td>No</td>\n",
              "      <td>No</td>\n",
              "      <td>No</td>\n",
              "      <td>Month-to-month</td>\n",
              "      <td>Yes</td>\n",
              "      <td>Electronic_check</td>\n",
              "      <td>29.85</td>\n",
              "      <td>29.85</td>\n",
              "    </tr>\n",
              "    <tr>\n",
              "      <th>1</th>\n",
              "      <td>Male</td>\n",
              "      <td>0</td>\n",
              "      <td>No</td>\n",
              "      <td>No</td>\n",
              "      <td>34</td>\n",
              "      <td>Yes</td>\n",
              "      <td>No</td>\n",
              "      <td>DSL</td>\n",
              "      <td>Yes</td>\n",
              "      <td>No</td>\n",
              "      <td>Yes</td>\n",
              "      <td>No</td>\n",
              "      <td>No</td>\n",
              "      <td>No</td>\n",
              "      <td>One_year</td>\n",
              "      <td>No</td>\n",
              "      <td>Mailed_check</td>\n",
              "      <td>56.95</td>\n",
              "      <td>1889.50</td>\n",
              "    </tr>\n",
              "    <tr>\n",
              "      <th>2</th>\n",
              "      <td>Male</td>\n",
              "      <td>0</td>\n",
              "      <td>No</td>\n",
              "      <td>No</td>\n",
              "      <td>2</td>\n",
              "      <td>Yes</td>\n",
              "      <td>No</td>\n",
              "      <td>DSL</td>\n",
              "      <td>Yes</td>\n",
              "      <td>Yes</td>\n",
              "      <td>No</td>\n",
              "      <td>No</td>\n",
              "      <td>No</td>\n",
              "      <td>No</td>\n",
              "      <td>Month-to-month</td>\n",
              "      <td>Yes</td>\n",
              "      <td>Mailed_check</td>\n",
              "      <td>53.85</td>\n",
              "      <td>108.15</td>\n",
              "    </tr>\n",
              "    <tr>\n",
              "      <th>3</th>\n",
              "      <td>Male</td>\n",
              "      <td>0</td>\n",
              "      <td>No</td>\n",
              "      <td>No</td>\n",
              "      <td>45</td>\n",
              "      <td>No</td>\n",
              "      <td>No_phone_service</td>\n",
              "      <td>DSL</td>\n",
              "      <td>Yes</td>\n",
              "      <td>No</td>\n",
              "      <td>Yes</td>\n",
              "      <td>Yes</td>\n",
              "      <td>No</td>\n",
              "      <td>No</td>\n",
              "      <td>One_year</td>\n",
              "      <td>No</td>\n",
              "      <td>Bank_transfer_(automatic)</td>\n",
              "      <td>42.30</td>\n",
              "      <td>1840.75</td>\n",
              "    </tr>\n",
              "    <tr>\n",
              "      <th>4</th>\n",
              "      <td>Female</td>\n",
              "      <td>0</td>\n",
              "      <td>No</td>\n",
              "      <td>No</td>\n",
              "      <td>2</td>\n",
              "      <td>Yes</td>\n",
              "      <td>No</td>\n",
              "      <td>Fiber_optic</td>\n",
              "      <td>No</td>\n",
              "      <td>No</td>\n",
              "      <td>No</td>\n",
              "      <td>No</td>\n",
              "      <td>No</td>\n",
              "      <td>No</td>\n",
              "      <td>Month-to-month</td>\n",
              "      <td>Yes</td>\n",
              "      <td>Electronic_check</td>\n",
              "      <td>70.70</td>\n",
              "      <td>151.65</td>\n",
              "    </tr>\n",
              "  </tbody>\n",
              "</table>\n",
              "</div>"
            ],
            "text/plain": [
              "   gender  SeniorCitizen  ... MonthlyCharges TotalCharges\n",
              "0  Female              0  ...          29.85        29.85\n",
              "1    Male              0  ...          56.95      1889.50\n",
              "2    Male              0  ...          53.85       108.15\n",
              "3    Male              0  ...          42.30      1840.75\n",
              "4  Female              0  ...          70.70       151.65\n",
              "\n",
              "[5 rows x 19 columns]"
            ]
          },
          "metadata": {
            "tags": []
          },
          "execution_count": 97
        }
      ]
    },
    {
      "cell_type": "code",
      "metadata": {
        "id": "x4_kMwuvShPZ"
      },
      "source": [
        "y = df['Churn'].copy()\n",
        "y.head()"
      ],
      "execution_count": null,
      "outputs": []
    },
    {
      "cell_type": "markdown",
      "metadata": {
        "id": "gYhQGXywS6i8"
      },
      "source": [
        "> Now we are ready to continue formatting `X` so that it is suitable for making a model with `XGBoost`."
      ]
    },
    {
      "cell_type": "markdown",
      "metadata": {
        "id": "1E2X2glkTKf0"
      },
      "source": [
        "## One Hot Encoding\n",
        "> Now we need to take a closer look at the features in `X`. The list below tells us what each variable represents and the type of data (`float` or `categorical`) it should contain:\n",
        "> - `gender` - Category\n",
        ">  - Female, Male\n",
        "> - `SeniorCitizen` - Category\n",
        ">  - Yes, No\n",
        "> - `Partner` - Category\n",
        ">  - Yes, No\n",
        "> - `Dependents` - Category\n",
        ">  - Yes, No\n",
        "> - `tenure` - Float\n",
        "> - `PhoneService` - Category\n",
        ">  - Yes, No\n",
        "> - `MultipleLines` - Category\n",
        ">  - Yes, No\n",
        "> - `InternetService` - Category\n",
        ">  - No, DSL, Figer optic\n",
        "> - `OnlineSecurity` - Category\n",
        ">  - Yes, No\n",
        "> - `OnlineBackup` - Category\n",
        ">  - Yes, No\n",
        "> - `DeviceProtection` - Category\n",
        ">  - Yes, No\n",
        "> - `TechSupport` - Category\n",
        ">  - Yes, No\n",
        "> - `StreamingTV` - Category\n",
        ">  - Yes, No\n",
        "> - `StreamingMovies` - Category\n",
        ">  - Yes, No\n",
        "> - `Contract` - Category\n",
        ">  - Month_to_month, One_year, Two_year\n",
        "> - `PaperlessBilling` - Category\n",
        ">  - Yes, No\n",
        "> - `PaymentMethod` - Category\n",
        ">  - Mailed_Check, Electronic_Check etc...\n",
        "> - `MonthlyCharges` - Float\n",
        "> - `TotalCharges` - Float\n",
        "\n",
        "> Now, just to review, let's look at the data types in `X` t remember how python is seeing the data right now."
      ]
    },
    {
      "cell_type": "code",
      "metadata": {
        "colab": {
          "base_uri": "https://localhost:8080/"
        },
        "id": "BjoPpN0JSyTU",
        "outputId": "52ca8cdd-2671-46eb-de37-f3cf2a6fbc1c"
      },
      "source": [
        "X.dtypes"
      ],
      "execution_count": 98,
      "outputs": [
        {
          "output_type": "execute_result",
          "data": {
            "text/plain": [
              "gender               object\n",
              "SeniorCitizen         int64\n",
              "Partner              object\n",
              "Dependents           object\n",
              "tenure                int64\n",
              "PhoneService         object\n",
              "MultipleLines        object\n",
              "InternetService      object\n",
              "OnlineSecurity       object\n",
              "OnlineBackup         object\n",
              "DeviceProtection     object\n",
              "TechSupport          object\n",
              "StreamingTV          object\n",
              "StreamingMovies      object\n",
              "Contract             object\n",
              "PaperlessBilling     object\n",
              "PaymentMethod        object\n",
              "MonthlyCharges      float64\n",
              "TotalCharges        float64\n",
              "dtype: object"
            ]
          },
          "metadata": {
            "tags": []
          },
          "execution_count": 98
        }
      ]
    },
    {
      "cell_type": "code",
      "metadata": {
        "colab": {
          "base_uri": "https://localhost:8080/",
          "height": 260
        },
        "id": "Iht1a2MAWov-",
        "outputId": "ef7409ce-4321-4bc0-c370-9c449ceea272"
      },
      "source": [
        "pd.get_dummies(X, columns=['PaymentMethod']).head()"
      ],
      "execution_count": 99,
      "outputs": [
        {
          "output_type": "execute_result",
          "data": {
            "text/html": [
              "<div>\n",
              "<style scoped>\n",
              "    .dataframe tbody tr th:only-of-type {\n",
              "        vertical-align: middle;\n",
              "    }\n",
              "\n",
              "    .dataframe tbody tr th {\n",
              "        vertical-align: top;\n",
              "    }\n",
              "\n",
              "    .dataframe thead th {\n",
              "        text-align: right;\n",
              "    }\n",
              "</style>\n",
              "<table border=\"1\" class=\"dataframe\">\n",
              "  <thead>\n",
              "    <tr style=\"text-align: right;\">\n",
              "      <th></th>\n",
              "      <th>gender</th>\n",
              "      <th>SeniorCitizen</th>\n",
              "      <th>Partner</th>\n",
              "      <th>Dependents</th>\n",
              "      <th>tenure</th>\n",
              "      <th>PhoneService</th>\n",
              "      <th>MultipleLines</th>\n",
              "      <th>InternetService</th>\n",
              "      <th>OnlineSecurity</th>\n",
              "      <th>OnlineBackup</th>\n",
              "      <th>DeviceProtection</th>\n",
              "      <th>TechSupport</th>\n",
              "      <th>StreamingTV</th>\n",
              "      <th>StreamingMovies</th>\n",
              "      <th>Contract</th>\n",
              "      <th>PaperlessBilling</th>\n",
              "      <th>MonthlyCharges</th>\n",
              "      <th>TotalCharges</th>\n",
              "      <th>PaymentMethod_Bank_transfer_(automatic)</th>\n",
              "      <th>PaymentMethod_Credit_card_(automatic)</th>\n",
              "      <th>PaymentMethod_Electronic_check</th>\n",
              "      <th>PaymentMethod_Mailed_check</th>\n",
              "    </tr>\n",
              "  </thead>\n",
              "  <tbody>\n",
              "    <tr>\n",
              "      <th>0</th>\n",
              "      <td>Female</td>\n",
              "      <td>0</td>\n",
              "      <td>Yes</td>\n",
              "      <td>No</td>\n",
              "      <td>1</td>\n",
              "      <td>No</td>\n",
              "      <td>No_phone_service</td>\n",
              "      <td>DSL</td>\n",
              "      <td>No</td>\n",
              "      <td>Yes</td>\n",
              "      <td>No</td>\n",
              "      <td>No</td>\n",
              "      <td>No</td>\n",
              "      <td>No</td>\n",
              "      <td>Month-to-month</td>\n",
              "      <td>Yes</td>\n",
              "      <td>29.85</td>\n",
              "      <td>29.85</td>\n",
              "      <td>0</td>\n",
              "      <td>0</td>\n",
              "      <td>1</td>\n",
              "      <td>0</td>\n",
              "    </tr>\n",
              "    <tr>\n",
              "      <th>1</th>\n",
              "      <td>Male</td>\n",
              "      <td>0</td>\n",
              "      <td>No</td>\n",
              "      <td>No</td>\n",
              "      <td>34</td>\n",
              "      <td>Yes</td>\n",
              "      <td>No</td>\n",
              "      <td>DSL</td>\n",
              "      <td>Yes</td>\n",
              "      <td>No</td>\n",
              "      <td>Yes</td>\n",
              "      <td>No</td>\n",
              "      <td>No</td>\n",
              "      <td>No</td>\n",
              "      <td>One_year</td>\n",
              "      <td>No</td>\n",
              "      <td>56.95</td>\n",
              "      <td>1889.50</td>\n",
              "      <td>0</td>\n",
              "      <td>0</td>\n",
              "      <td>0</td>\n",
              "      <td>1</td>\n",
              "    </tr>\n",
              "    <tr>\n",
              "      <th>2</th>\n",
              "      <td>Male</td>\n",
              "      <td>0</td>\n",
              "      <td>No</td>\n",
              "      <td>No</td>\n",
              "      <td>2</td>\n",
              "      <td>Yes</td>\n",
              "      <td>No</td>\n",
              "      <td>DSL</td>\n",
              "      <td>Yes</td>\n",
              "      <td>Yes</td>\n",
              "      <td>No</td>\n",
              "      <td>No</td>\n",
              "      <td>No</td>\n",
              "      <td>No</td>\n",
              "      <td>Month-to-month</td>\n",
              "      <td>Yes</td>\n",
              "      <td>53.85</td>\n",
              "      <td>108.15</td>\n",
              "      <td>0</td>\n",
              "      <td>0</td>\n",
              "      <td>0</td>\n",
              "      <td>1</td>\n",
              "    </tr>\n",
              "    <tr>\n",
              "      <th>3</th>\n",
              "      <td>Male</td>\n",
              "      <td>0</td>\n",
              "      <td>No</td>\n",
              "      <td>No</td>\n",
              "      <td>45</td>\n",
              "      <td>No</td>\n",
              "      <td>No_phone_service</td>\n",
              "      <td>DSL</td>\n",
              "      <td>Yes</td>\n",
              "      <td>No</td>\n",
              "      <td>Yes</td>\n",
              "      <td>Yes</td>\n",
              "      <td>No</td>\n",
              "      <td>No</td>\n",
              "      <td>One_year</td>\n",
              "      <td>No</td>\n",
              "      <td>42.30</td>\n",
              "      <td>1840.75</td>\n",
              "      <td>1</td>\n",
              "      <td>0</td>\n",
              "      <td>0</td>\n",
              "      <td>0</td>\n",
              "    </tr>\n",
              "    <tr>\n",
              "      <th>4</th>\n",
              "      <td>Female</td>\n",
              "      <td>0</td>\n",
              "      <td>No</td>\n",
              "      <td>No</td>\n",
              "      <td>2</td>\n",
              "      <td>Yes</td>\n",
              "      <td>No</td>\n",
              "      <td>Fiber_optic</td>\n",
              "      <td>No</td>\n",
              "      <td>No</td>\n",
              "      <td>No</td>\n",
              "      <td>No</td>\n",
              "      <td>No</td>\n",
              "      <td>No</td>\n",
              "      <td>Month-to-month</td>\n",
              "      <td>Yes</td>\n",
              "      <td>70.70</td>\n",
              "      <td>151.65</td>\n",
              "      <td>0</td>\n",
              "      <td>0</td>\n",
              "      <td>1</td>\n",
              "      <td>0</td>\n",
              "    </tr>\n",
              "  </tbody>\n",
              "</table>\n",
              "</div>"
            ],
            "text/plain": [
              "   gender  ...  PaymentMethod_Mailed_check\n",
              "0  Female  ...                           0\n",
              "1    Male  ...                           1\n",
              "2    Male  ...                           1\n",
              "3    Male  ...                           0\n",
              "4  Female  ...                           0\n",
              "\n",
              "[5 rows x 22 columns]"
            ]
          },
          "metadata": {
            "tags": []
          },
          "execution_count": 99
        }
      ]
    },
    {
      "cell_type": "code",
      "metadata": {
        "colab": {
          "base_uri": "https://localhost:8080/",
          "height": 211
        },
        "id": "Gt9GeI_TXbTP",
        "outputId": "5b83487e-dc0c-4742-d37f-f8dc1f690a3a"
      },
      "source": [
        "X_encoded = pd.get_dummies(X, columns = ['gender', 'SeniorCitizen', 'Partner', 'Dependents', 'PhoneService', \n",
        "                                         'MultipleLines', 'InternetService', 'OnlineSecurity', 'OnlineBackup', \n",
        "                                         'DeviceProtection', 'TechSupport', 'StreamingTV', 'StreamingMovies', \n",
        "                                         'Contract', 'PaperlessBilling', 'PaymentMethod'], drop_first=True)\n",
        "X_encoded.head()"
      ],
      "execution_count": 101,
      "outputs": [
        {
          "output_type": "execute_result",
          "data": {
            "text/html": [
              "<div>\n",
              "<style scoped>\n",
              "    .dataframe tbody tr th:only-of-type {\n",
              "        vertical-align: middle;\n",
              "    }\n",
              "\n",
              "    .dataframe tbody tr th {\n",
              "        vertical-align: top;\n",
              "    }\n",
              "\n",
              "    .dataframe thead th {\n",
              "        text-align: right;\n",
              "    }\n",
              "</style>\n",
              "<table border=\"1\" class=\"dataframe\">\n",
              "  <thead>\n",
              "    <tr style=\"text-align: right;\">\n",
              "      <th></th>\n",
              "      <th>tenure</th>\n",
              "      <th>MonthlyCharges</th>\n",
              "      <th>TotalCharges</th>\n",
              "      <th>gender_Male</th>\n",
              "      <th>SeniorCitizen_1</th>\n",
              "      <th>Partner_Yes</th>\n",
              "      <th>Dependents_Yes</th>\n",
              "      <th>PhoneService_Yes</th>\n",
              "      <th>MultipleLines_No_phone_service</th>\n",
              "      <th>MultipleLines_Yes</th>\n",
              "      <th>InternetService_Fiber_optic</th>\n",
              "      <th>InternetService_No</th>\n",
              "      <th>OnlineSecurity_No_internet_service</th>\n",
              "      <th>OnlineSecurity_Yes</th>\n",
              "      <th>OnlineBackup_No_internet_service</th>\n",
              "      <th>OnlineBackup_Yes</th>\n",
              "      <th>DeviceProtection_No_internet_service</th>\n",
              "      <th>DeviceProtection_Yes</th>\n",
              "      <th>TechSupport_No_internet_service</th>\n",
              "      <th>TechSupport_Yes</th>\n",
              "      <th>StreamingTV_No_internet_service</th>\n",
              "      <th>StreamingTV_Yes</th>\n",
              "      <th>StreamingMovies_No_internet_service</th>\n",
              "      <th>StreamingMovies_Yes</th>\n",
              "      <th>Contract_One_year</th>\n",
              "      <th>Contract_Two_year</th>\n",
              "      <th>PaperlessBilling_Yes</th>\n",
              "      <th>PaymentMethod_Credit_card_(automatic)</th>\n",
              "      <th>PaymentMethod_Electronic_check</th>\n",
              "      <th>PaymentMethod_Mailed_check</th>\n",
              "    </tr>\n",
              "  </thead>\n",
              "  <tbody>\n",
              "    <tr>\n",
              "      <th>0</th>\n",
              "      <td>1</td>\n",
              "      <td>29.85</td>\n",
              "      <td>29.85</td>\n",
              "      <td>0</td>\n",
              "      <td>0</td>\n",
              "      <td>1</td>\n",
              "      <td>0</td>\n",
              "      <td>0</td>\n",
              "      <td>1</td>\n",
              "      <td>0</td>\n",
              "      <td>0</td>\n",
              "      <td>0</td>\n",
              "      <td>0</td>\n",
              "      <td>0</td>\n",
              "      <td>0</td>\n",
              "      <td>1</td>\n",
              "      <td>0</td>\n",
              "      <td>0</td>\n",
              "      <td>0</td>\n",
              "      <td>0</td>\n",
              "      <td>0</td>\n",
              "      <td>0</td>\n",
              "      <td>0</td>\n",
              "      <td>0</td>\n",
              "      <td>0</td>\n",
              "      <td>0</td>\n",
              "      <td>1</td>\n",
              "      <td>0</td>\n",
              "      <td>1</td>\n",
              "      <td>0</td>\n",
              "    </tr>\n",
              "    <tr>\n",
              "      <th>1</th>\n",
              "      <td>34</td>\n",
              "      <td>56.95</td>\n",
              "      <td>1889.50</td>\n",
              "      <td>1</td>\n",
              "      <td>0</td>\n",
              "      <td>0</td>\n",
              "      <td>0</td>\n",
              "      <td>1</td>\n",
              "      <td>0</td>\n",
              "      <td>0</td>\n",
              "      <td>0</td>\n",
              "      <td>0</td>\n",
              "      <td>0</td>\n",
              "      <td>1</td>\n",
              "      <td>0</td>\n",
              "      <td>0</td>\n",
              "      <td>0</td>\n",
              "      <td>1</td>\n",
              "      <td>0</td>\n",
              "      <td>0</td>\n",
              "      <td>0</td>\n",
              "      <td>0</td>\n",
              "      <td>0</td>\n",
              "      <td>0</td>\n",
              "      <td>1</td>\n",
              "      <td>0</td>\n",
              "      <td>0</td>\n",
              "      <td>0</td>\n",
              "      <td>0</td>\n",
              "      <td>1</td>\n",
              "    </tr>\n",
              "    <tr>\n",
              "      <th>2</th>\n",
              "      <td>2</td>\n",
              "      <td>53.85</td>\n",
              "      <td>108.15</td>\n",
              "      <td>1</td>\n",
              "      <td>0</td>\n",
              "      <td>0</td>\n",
              "      <td>0</td>\n",
              "      <td>1</td>\n",
              "      <td>0</td>\n",
              "      <td>0</td>\n",
              "      <td>0</td>\n",
              "      <td>0</td>\n",
              "      <td>0</td>\n",
              "      <td>1</td>\n",
              "      <td>0</td>\n",
              "      <td>1</td>\n",
              "      <td>0</td>\n",
              "      <td>0</td>\n",
              "      <td>0</td>\n",
              "      <td>0</td>\n",
              "      <td>0</td>\n",
              "      <td>0</td>\n",
              "      <td>0</td>\n",
              "      <td>0</td>\n",
              "      <td>0</td>\n",
              "      <td>0</td>\n",
              "      <td>1</td>\n",
              "      <td>0</td>\n",
              "      <td>0</td>\n",
              "      <td>1</td>\n",
              "    </tr>\n",
              "    <tr>\n",
              "      <th>3</th>\n",
              "      <td>45</td>\n",
              "      <td>42.30</td>\n",
              "      <td>1840.75</td>\n",
              "      <td>1</td>\n",
              "      <td>0</td>\n",
              "      <td>0</td>\n",
              "      <td>0</td>\n",
              "      <td>0</td>\n",
              "      <td>1</td>\n",
              "      <td>0</td>\n",
              "      <td>0</td>\n",
              "      <td>0</td>\n",
              "      <td>0</td>\n",
              "      <td>1</td>\n",
              "      <td>0</td>\n",
              "      <td>0</td>\n",
              "      <td>0</td>\n",
              "      <td>1</td>\n",
              "      <td>0</td>\n",
              "      <td>1</td>\n",
              "      <td>0</td>\n",
              "      <td>0</td>\n",
              "      <td>0</td>\n",
              "      <td>0</td>\n",
              "      <td>1</td>\n",
              "      <td>0</td>\n",
              "      <td>0</td>\n",
              "      <td>0</td>\n",
              "      <td>0</td>\n",
              "      <td>0</td>\n",
              "    </tr>\n",
              "    <tr>\n",
              "      <th>4</th>\n",
              "      <td>2</td>\n",
              "      <td>70.70</td>\n",
              "      <td>151.65</td>\n",
              "      <td>0</td>\n",
              "      <td>0</td>\n",
              "      <td>0</td>\n",
              "      <td>0</td>\n",
              "      <td>1</td>\n",
              "      <td>0</td>\n",
              "      <td>0</td>\n",
              "      <td>1</td>\n",
              "      <td>0</td>\n",
              "      <td>0</td>\n",
              "      <td>0</td>\n",
              "      <td>0</td>\n",
              "      <td>0</td>\n",
              "      <td>0</td>\n",
              "      <td>0</td>\n",
              "      <td>0</td>\n",
              "      <td>0</td>\n",
              "      <td>0</td>\n",
              "      <td>0</td>\n",
              "      <td>0</td>\n",
              "      <td>0</td>\n",
              "      <td>0</td>\n",
              "      <td>0</td>\n",
              "      <td>1</td>\n",
              "      <td>0</td>\n",
              "      <td>1</td>\n",
              "      <td>0</td>\n",
              "    </tr>\n",
              "  </tbody>\n",
              "</table>\n",
              "</div>"
            ],
            "text/plain": [
              "   tenure  ...  PaymentMethod_Mailed_check\n",
              "0       1  ...                           0\n",
              "1      34  ...                           1\n",
              "2       2  ...                           1\n",
              "3      45  ...                           0\n",
              "4       2  ...                           0\n",
              "\n",
              "[5 rows x 30 columns]"
            ]
          },
          "metadata": {
            "tags": []
          },
          "execution_count": 101
        }
      ]
    },
    {
      "cell_type": "code",
      "metadata": {
        "colab": {
          "base_uri": "https://localhost:8080/"
        },
        "id": "EdrbnztCYyAV",
        "outputId": "17f83dd9-9a33-4c31-cacb-cbd1390d3a3a"
      },
      "source": [
        "X_encoded.shape"
      ],
      "execution_count": 103,
      "outputs": [
        {
          "output_type": "execute_result",
          "data": {
            "text/plain": [
              "(7043, 30)"
            ]
          },
          "metadata": {
            "tags": []
          },
          "execution_count": 103
        }
      ]
    },
    {
      "cell_type": "markdown",
      "metadata": {
        "id": "BKVHGhLZZkqH"
      },
      "source": [
        "> We have finally finished formatting the data for making an `XGBoost` model, so let's do it!"
      ]
    },
    {
      "cell_type": "markdown",
      "metadata": {
        "id": "6GQqivV-1BGx"
      },
      "source": [
        "## Build A Preliminary XGBoost Model\n",
        "> At long last, the data is correctly formatted for making an `XGBoost` model. Now we simply split the data into `training` and `testing` sets and build the model. However, first, let's observe that this data is imblanced by dividing the number of people who left the company, where `y=1`, by the total number of people in the dataset."
      ]
    },
    {
      "cell_type": "code",
      "metadata": {
        "colab": {
          "base_uri": "https://localhost:8080/"
        },
        "id": "jNvy9zBkZMva",
        "outputId": "e6bde2aa-9aab-4178-8662-bcb01beb6091"
      },
      "source": [
        "sum(y) / len(y)"
      ],
      "execution_count": 104,
      "outputs": [
        {
          "output_type": "execute_result",
          "data": {
            "text/plain": [
              "0.2653698707936959"
            ]
          },
          "metadata": {
            "tags": []
          },
          "execution_count": 104
        }
      ]
    },
    {
      "cell_type": "markdown",
      "metadata": {
        "id": "43IXcXSt156q"
      },
      "source": [
        "> So we see that only `27%` of the people in the dataset left the company. Because of this, when we split the data into training and testing, we will split using stratification in order to maintain the same percentage of people who left the company in both the `training` set and the `testing` set."
      ]
    },
    {
      "cell_type": "code",
      "metadata": {
        "id": "38a9qSZt13VQ"
      },
      "source": [
        "X_train, X_test, y_train, y_test = train_test_split(X_encoded, y, random_state=42, stratify=y)"
      ],
      "execution_count": 105,
      "outputs": []
    },
    {
      "cell_type": "markdown",
      "metadata": {
        "id": "-Q6zqHlK24l1"
      },
      "source": [
        "> Now let's verigy that using `stratify` worked as expected..."
      ]
    },
    {
      "cell_type": "code",
      "metadata": {
        "colab": {
          "base_uri": "https://localhost:8080/"
        },
        "id": "QzDhYsny23jF",
        "outputId": "9a8fc98e-f365-498a-ee07-4777be2b0928"
      },
      "source": [
        "sum(y_train) / len(y_train), sum(y_test) / len(y_test)"
      ],
      "execution_count": 106,
      "outputs": [
        {
          "output_type": "execute_result",
          "data": {
            "text/plain": [
              "(0.2654297614539947, 0.26519023282226006)"
            ]
          },
          "metadata": {
            "tags": []
          },
          "execution_count": 106
        }
      ]
    },
    {
      "cell_type": "markdown",
      "metadata": {
        "id": "TN36-f9u3O5X"
      },
      "source": [
        "> `Stratify` worked as expected and both `y_train` and `y_test` have the same percentage of people that left the company. Now let's build the preliminary model.\n",
        "\n",
        "### Note\n",
        "> Instead of determining the optimal number of trees with cross validation, we will use `early stopping` to stop building trees when they no longer improve the situation."
      ]
    },
    {
      "cell_type": "code",
      "metadata": {
        "colab": {
          "base_uri": "https://localhost:8080/"
        },
        "id": "SP1rswiI3MpM",
        "outputId": "ea074ce7-b25f-494d-d80a-6d5a7f1fc19a"
      },
      "source": [
        "clf = xgb.XGBClassifier(objective='binary:logistic', missing=None, seed=42)\n",
        "clf.fit(X_train, y_train, verbose=True, early_stopping_rounds=10, \n",
        "        eval_metric='aucpr', eval_set=[(X_test, y_test)])"
      ],
      "execution_count": 107,
      "outputs": [
        {
          "output_type": "stream",
          "text": [
            "[0]\tvalidation_0-aucpr:0.596821\n",
            "Will train until validation_0-aucpr hasn't improved in 10 rounds.\n",
            "[1]\tvalidation_0-aucpr:0.596821\n",
            "[2]\tvalidation_0-aucpr:0.616819\n",
            "[3]\tvalidation_0-aucpr:0.622354\n",
            "[4]\tvalidation_0-aucpr:0.625807\n",
            "[5]\tvalidation_0-aucpr:0.63018\n",
            "[6]\tvalidation_0-aucpr:0.628641\n",
            "[7]\tvalidation_0-aucpr:0.630951\n",
            "[8]\tvalidation_0-aucpr:0.630587\n",
            "[9]\tvalidation_0-aucpr:0.636708\n",
            "[10]\tvalidation_0-aucpr:0.637894\n",
            "[11]\tvalidation_0-aucpr:0.639997\n",
            "[12]\tvalidation_0-aucpr:0.638768\n",
            "[13]\tvalidation_0-aucpr:0.640351\n",
            "[14]\tvalidation_0-aucpr:0.643511\n",
            "[15]\tvalidation_0-aucpr:0.642886\n",
            "[16]\tvalidation_0-aucpr:0.643331\n",
            "[17]\tvalidation_0-aucpr:0.643869\n",
            "[18]\tvalidation_0-aucpr:0.644045\n",
            "[19]\tvalidation_0-aucpr:0.644829\n",
            "[20]\tvalidation_0-aucpr:0.644679\n",
            "[21]\tvalidation_0-aucpr:0.644612\n",
            "[22]\tvalidation_0-aucpr:0.643908\n",
            "[23]\tvalidation_0-aucpr:0.643668\n",
            "[24]\tvalidation_0-aucpr:0.645144\n",
            "[25]\tvalidation_0-aucpr:0.646713\n",
            "[26]\tvalidation_0-aucpr:0.645666\n",
            "[27]\tvalidation_0-aucpr:0.646645\n",
            "[28]\tvalidation_0-aucpr:0.64798\n",
            "[29]\tvalidation_0-aucpr:0.648492\n",
            "[30]\tvalidation_0-aucpr:0.650203\n",
            "[31]\tvalidation_0-aucpr:0.650393\n",
            "[32]\tvalidation_0-aucpr:0.651138\n",
            "[33]\tvalidation_0-aucpr:0.650801\n",
            "[34]\tvalidation_0-aucpr:0.651762\n",
            "[35]\tvalidation_0-aucpr:0.652429\n",
            "[36]\tvalidation_0-aucpr:0.651653\n",
            "[37]\tvalidation_0-aucpr:0.651695\n",
            "[38]\tvalidation_0-aucpr:0.652438\n",
            "[39]\tvalidation_0-aucpr:0.652847\n",
            "[40]\tvalidation_0-aucpr:0.652991\n",
            "[41]\tvalidation_0-aucpr:0.653017\n",
            "[42]\tvalidation_0-aucpr:0.652628\n",
            "[43]\tvalidation_0-aucpr:0.653156\n",
            "[44]\tvalidation_0-aucpr:0.654218\n",
            "[45]\tvalidation_0-aucpr:0.654543\n",
            "[46]\tvalidation_0-aucpr:0.654789\n",
            "[47]\tvalidation_0-aucpr:0.6552\n",
            "[48]\tvalidation_0-aucpr:0.654892\n",
            "[49]\tvalidation_0-aucpr:0.655443\n",
            "[50]\tvalidation_0-aucpr:0.655704\n",
            "[51]\tvalidation_0-aucpr:0.655415\n",
            "[52]\tvalidation_0-aucpr:0.656243\n",
            "[53]\tvalidation_0-aucpr:0.655909\n",
            "[54]\tvalidation_0-aucpr:0.656343\n",
            "[55]\tvalidation_0-aucpr:0.656188\n",
            "[56]\tvalidation_0-aucpr:0.656805\n",
            "[57]\tvalidation_0-aucpr:0.657137\n",
            "[58]\tvalidation_0-aucpr:0.657842\n",
            "[59]\tvalidation_0-aucpr:0.656836\n",
            "[60]\tvalidation_0-aucpr:0.656559\n",
            "[61]\tvalidation_0-aucpr:0.656264\n",
            "[62]\tvalidation_0-aucpr:0.656387\n",
            "[63]\tvalidation_0-aucpr:0.656788\n",
            "[64]\tvalidation_0-aucpr:0.657431\n",
            "[65]\tvalidation_0-aucpr:0.657332\n",
            "[66]\tvalidation_0-aucpr:0.656463\n",
            "[67]\tvalidation_0-aucpr:0.656546\n",
            "[68]\tvalidation_0-aucpr:0.656499\n",
            "Stopping. Best iteration:\n",
            "[58]\tvalidation_0-aucpr:0.657842\n",
            "\n"
          ],
          "name": "stdout"
        },
        {
          "output_type": "execute_result",
          "data": {
            "text/plain": [
              "XGBClassifier(base_score=0.5, booster='gbtree', colsample_bylevel=1,\n",
              "              colsample_bynode=1, colsample_bytree=1, gamma=0,\n",
              "              learning_rate=0.1, max_delta_step=0, max_depth=3,\n",
              "              min_child_weight=1, missing=None, n_estimators=100, n_jobs=1,\n",
              "              nthread=None, objective='binary:logistic', random_state=0,\n",
              "              reg_alpha=0, reg_lambda=1, scale_pos_weight=1, seed=42,\n",
              "              silent=None, subsample=1, verbosity=1)"
            ]
          },
          "metadata": {
            "tags": []
          },
          "execution_count": 107
        }
      ]
    },
    {
      "cell_type": "markdown",
      "metadata": {
        "id": "gOmM6pnp673r"
      },
      "source": [
        "> OK, we've built an `XGBoost` model for classification. Let's see how it performs on the `Testing` dataset by running the `Testing` dataset down the model and drawing a `Confusion Matrix`."
      ]
    },
    {
      "cell_type": "code",
      "metadata": {
        "colab": {
          "base_uri": "https://localhost:8080/",
          "height": 295
        },
        "id": "u2a03cG25MLx",
        "outputId": "60a3f7f3-2b64-4bb1-9ba4-1270b14020b5"
      },
      "source": [
        "plot_confusion_matrix(clf, X_test, y_test, values_format='d', display_labels=['Did not Leave', 'Left'])"
      ],
      "execution_count": 110,
      "outputs": [
        {
          "output_type": "execute_result",
          "data": {
            "text/plain": [
              "<sklearn.metrics._plot.confusion_matrix.ConfusionMatrixDisplay at 0x7fb0bd5364d0>"
            ]
          },
          "metadata": {
            "tags": []
          },
          "execution_count": 110
        },
        {
          "output_type": "display_data",
          "data": {
            "image/png": "[encoded data removed]",
            "text/plain": [
              "<Figure size 432x288 with 2 Axes>"
            ]
          },
          "metadata": {
            "tags": [],
            "needs_background": "light"
          }
        }
      ]
    },
    {
      "cell_type": "markdown",
      "metadata": {
        "id": "nVdzLCu59C62"
      },
      "source": [
        "> In the confusion matrix, we see that of the `1294` people that `did not leave`, 1182 were correctly calssified. And of the `467` people that `left the company`, `224` were correctly classified. So that `XGBoost` model was not awesome. Part of the problem is that our data is imbalanced, which we saw earlier and we see this in the confusion matrix with the top row showing `1294` people that did not default and the bottom row showing`467` people who did. Because people leaving costs the company a lot of money, we would like to capture more of the people that left. The good news is that `XGBoost` has a parameter, `scale_pos_weight`, that helps with imbalanced data. So let's try to improve predictions using `Cross Validation` to optimize the paremeters."
      ]
    },
    {
      "cell_type": "markdown",
      "metadata": {
        "id": "-TYlh76D_v3_"
      },
      "source": [
        "## Optimize Parameters using Cross Validation and GridSearchCV()\n",
        "> `XGBoost` has a lot of `hyperparameters`, parameters that we have to manual configure and are not determined by `XGBoost` itself, including `max_depth`, the maximum tree depth, `learning_rate`, the learning rate, or `eta`, `gamma`, the parameter that encourages pruning, and `reg_lambda`, the regularization parameter lambda. So let's try to find the optimal values for these hyperparameters in hopes that we can improve the accuracy with the `Testing Dataset`.\n",
        "\n",
        "### Note\n",
        "> Since we have many hyperperameters to optimize, we will use `GridSearchCV()`. We specify a bunch of potential values for the hyperparameters and `GridSearchCV()` tests all possible combinations of the parameters for us."
      ]
    },
    {
      "cell_type": "code",
      "metadata": {
        "id": "0YCwwCYO8EV2"
      },
      "source": [
        "param_grid = { \n",
        "    'max_depth': [3, 4, 5], \n",
        "    'learning_rate': [0.1, 0.01, 0.05],\n",
        "    'gamma': [0, 0,25, 1],\n",
        "    'reg_lambda': [0, 1, 10,],\n",
        "    'scale_pos_weight': [1, 3, 5]\n",
        "}"
      ],
      "execution_count": 111,
      "outputs": []
    },
    {
      "cell_type": "code",
      "metadata": {
        "id": "57WHcQIJDMID"
      },
      "source": [
        "optimal_params = GridSearchCV(estimator=xgb.XGBClassifier(objective='binary:logistic', seed=42, subsample=0.9, colsample_bytree=0.5),\n",
        "                              param_grid = param_grid, scoring = 'roc_auc', verbose = 0, n_jobs = 10, cv = 3)"
      ],
      "execution_count": 113,
      "outputs": []
    },
    {
      "cell_type": "code",
      "metadata": {
        "colab": {
          "base_uri": "https://localhost:8080/"
        },
        "id": "bMseh5xBD9nt",
        "outputId": "2e82121f-434d-47a8-99ec-12e52763869a"
      },
      "source": [
        "optimal_params"
      ],
      "execution_count": 114,
      "outputs": [
        {
          "output_type": "execute_result",
          "data": {
            "text/plain": [
              "GridSearchCV(cv=3, error_score=nan,\n",
              "             estimator=XGBClassifier(base_score=0.5, booster='gbtree',\n",
              "                                     colsample_bylevel=1, colsample_bynode=1,\n",
              "                                     colsample_bytree=0.5, gamma=0,\n",
              "                                     learning_rate=0.1, max_delta_step=0,\n",
              "                                     max_depth=3, min_child_weight=1,\n",
              "                                     missing=None, n_estimators=100, n_jobs=1,\n",
              "                                     nthread=None, objective='binary:logistic',\n",
              "                                     random_state=0, reg_alpha=0, reg_lambda=1,\n",
              "                                     scale_pos_weight=1, seed=42, silent=None,\n",
              "                                     subsample=0.9, verbosity=1),\n",
              "             iid='deprecated', n_jobs=10,\n",
              "             param_grid={'gamma': [0, 0, 25, 1],\n",
              "                         'learning_rate': [0.1, 0.01, 0.05],\n",
              "                         'max_depth': [3, 4, 5], 'reg_lambda': [0, 1, 10],\n",
              "                         'scale_pos_weight': [1, 3, 5]},\n",
              "             pre_dispatch='2*n_jobs', refit=True, return_train_score=False,\n",
              "             scoring='roc_auc', verbose=0)"
            ]
          },
          "metadata": {
            "tags": []
          },
          "execution_count": 114
        }
      ]
    },
    {
      "cell_type": "markdown",
      "metadata": {
        "id": "mcRKvX4VE88L"
      },
      "source": [
        "> ### Output:\n",
        "`max_depth` = 3, `learning_rate` = 0.1, `gamma` = 0, `reg_lambda` = 1, `scale_pos_weight` = 1"
      ]
    },
    {
      "cell_type": "code",
      "metadata": {
        "colab": {
          "base_uri": "https://localhost:8080/"
        },
        "id": "fCFnu2ixEGXQ",
        "outputId": "f5e02293-7589-449f-ba43-582a499e984f"
      },
      "source": [
        "optimal_params.fit(X_train, y_train, early_stopping_rounds=10, eval_metric='auc', eval_set=[(X_test, y_test)], verbose=False)\n",
        "print(optimal_params.best_params_)"
      ],
      "execution_count": 115,
      "outputs": [
        {
          "output_type": "stream",
          "text": [
            "{'gamma': 1, 'learning_rate': 0.1, 'max_depth': 3, 'reg_lambda': 10, 'scale_pos_weight': 1}\n"
          ],
          "name": "stdout"
        }
      ]
    },
    {
      "cell_type": "markdown",
      "metadata": {
        "id": "X9NcGphvGc8S"
      },
      "source": [
        "> So, after testing all possible combinatins of the potential parameter values with `Cross Validation`, we see that we should set `max_depth` = 3, `learning_rate` = 0.1, `gamma` = 1, `reg_lambda` = 10, `scale_pos_weight` = 1"
      ]
    },
    {
      "cell_type": "markdown",
      "metadata": {
        "id": "iVVkwLdSGR9f"
      },
      "source": [
        "## Building, Evaluating, Drawing and Interpreting the Optimized XGBoost Model\n",
        "> Now that we have the ideal parameter values, we can build the final `XGBoost` model:"
      ]
    },
    {
      "cell_type": "code",
      "metadata": {
        "colab": {
          "base_uri": "https://localhost:8080/"
        },
        "id": "Tav8fR2NJY46",
        "outputId": "b631a937-f90c-4375-a57b-85ae76b2cb95"
      },
      "source": [
        "clf = xgb.XGBClassifier(seed=42, objective='binary:logistic', gamma=.25, learing_rate=0.1, max_depth=4, \n",
        "                        reg_lambda=10, scale_pos_weight=3, subsample=0.9, colsample_bytree=0.5)\n",
        "\n",
        "clf.fit(X_train, y_train, verbose=True, early_stopping_rounds=10, eval_metric='aucpr', eval_set=[(X_test, y_test)])"
      ],
      "execution_count": 118,
      "outputs": [
        {
          "output_type": "stream",
          "text": [
            "[0]\tvalidation_0-aucpr:0.547017\n",
            "Will train until validation_0-aucpr hasn't improved in 10 rounds.\n",
            "[1]\tvalidation_0-aucpr:0.589081\n",
            "[2]\tvalidation_0-aucpr:0.60796\n",
            "[3]\tvalidation_0-aucpr:0.611333\n",
            "[4]\tvalidation_0-aucpr:0.625231\n",
            "[5]\tvalidation_0-aucpr:0.625897\n",
            "[6]\tvalidation_0-aucpr:0.6262\n",
            "[7]\tvalidation_0-aucpr:0.62666\n",
            "[8]\tvalidation_0-aucpr:0.626944\n",
            "[9]\tvalidation_0-aucpr:0.628164\n",
            "[10]\tvalidation_0-aucpr:0.63643\n",
            "[11]\tvalidation_0-aucpr:0.636894\n",
            "[12]\tvalidation_0-aucpr:0.637359\n",
            "[13]\tvalidation_0-aucpr:0.639441\n",
            "[14]\tvalidation_0-aucpr:0.640242\n",
            "[15]\tvalidation_0-aucpr:0.646282\n",
            "[16]\tvalidation_0-aucpr:0.646874\n",
            "[17]\tvalidation_0-aucpr:0.645595\n",
            "[18]\tvalidation_0-aucpr:0.646093\n",
            "[19]\tvalidation_0-aucpr:0.64731\n",
            "[20]\tvalidation_0-aucpr:0.646073\n",
            "[21]\tvalidation_0-aucpr:0.648637\n",
            "[22]\tvalidation_0-aucpr:0.648432\n",
            "[23]\tvalidation_0-aucpr:0.648595\n",
            "[24]\tvalidation_0-aucpr:0.647967\n",
            "[25]\tvalidation_0-aucpr:0.648012\n",
            "[26]\tvalidation_0-aucpr:0.643332\n",
            "[27]\tvalidation_0-aucpr:0.647678\n",
            "[28]\tvalidation_0-aucpr:0.649998\n",
            "[29]\tvalidation_0-aucpr:0.650299\n",
            "[30]\tvalidation_0-aucpr:0.650607\n",
            "[31]\tvalidation_0-aucpr:0.651601\n",
            "[32]\tvalidation_0-aucpr:0.65351\n",
            "[33]\tvalidation_0-aucpr:0.654377\n",
            "[34]\tvalidation_0-aucpr:0.654205\n",
            "[35]\tvalidation_0-aucpr:0.654353\n",
            "[36]\tvalidation_0-aucpr:0.654616\n",
            "[37]\tvalidation_0-aucpr:0.65444\n",
            "[38]\tvalidation_0-aucpr:0.653287\n",
            "[39]\tvalidation_0-aucpr:0.652961\n",
            "[40]\tvalidation_0-aucpr:0.653371\n",
            "[41]\tvalidation_0-aucpr:0.654063\n",
            "[42]\tvalidation_0-aucpr:0.654572\n",
            "[43]\tvalidation_0-aucpr:0.655082\n",
            "[44]\tvalidation_0-aucpr:0.654932\n",
            "[45]\tvalidation_0-aucpr:0.654874\n",
            "[46]\tvalidation_0-aucpr:0.655013\n",
            "[47]\tvalidation_0-aucpr:0.655043\n",
            "[48]\tvalidation_0-aucpr:0.655069\n",
            "[49]\tvalidation_0-aucpr:0.655735\n",
            "[50]\tvalidation_0-aucpr:0.655968\n",
            "[51]\tvalidation_0-aucpr:0.655443\n",
            "[52]\tvalidation_0-aucpr:0.655412\n",
            "[53]\tvalidation_0-aucpr:0.654001\n",
            "[54]\tvalidation_0-aucpr:0.654325\n",
            "[55]\tvalidation_0-aucpr:0.654281\n",
            "[56]\tvalidation_0-aucpr:0.65461\n",
            "[57]\tvalidation_0-aucpr:0.655198\n",
            "[58]\tvalidation_0-aucpr:0.65417\n",
            "[59]\tvalidation_0-aucpr:0.655082\n",
            "[60]\tvalidation_0-aucpr:0.655018\n",
            "Stopping. Best iteration:\n",
            "[50]\tvalidation_0-aucpr:0.655968\n",
            "\n"
          ],
          "name": "stdout"
        },
        {
          "output_type": "execute_result",
          "data": {
            "text/plain": [
              "XGBClassifier(base_score=0.5, booster='gbtree', colsample_bylevel=1,\n",
              "              colsample_bynode=1, colsample_bytree=0.5, gamma=0.25,\n",
              "              learing_rate=0.1, learning_rate=0.1, max_delta_step=0,\n",
              "              max_depth=4, min_child_weight=1, missing=None, n_estimators=100,\n",
              "              n_jobs=1, nthread=None, objective='binary:logistic',\n",
              "              random_state=0, reg_alpha=0, reg_lambda=10, scale_pos_weight=3,\n",
              "              seed=42, silent=None, subsample=0.9, verbosity=1)"
            ]
          },
          "metadata": {
            "tags": []
          },
          "execution_count": 118
        }
      ]
    },
    {
      "cell_type": "markdown",
      "metadata": {
        "id": "C_c4CjxwIYbg"
      },
      "source": [
        "> Now let's draw another confusion matrix to see if the optimized `XGBoost` model does better."
      ]
    },
    {
      "cell_type": "code",
      "metadata": {
        "colab": {
          "base_uri": "https://localhost:8080/",
          "height": 295
        },
        "id": "d-EGXzWjIRIk",
        "outputId": "23d08655-88ce-425f-d7c6-8744e39199c2"
      },
      "source": [
        "plot_confusion_matrix(clf, X_test, y_test, display_labels=['Did not leave', 'Left'], values_format='d')"
      ],
      "execution_count": 119,
      "outputs": [
        {
          "output_type": "execute_result",
          "data": {
            "text/plain": [
              "<sklearn.metrics._plot.confusion_matrix.ConfusionMatrixDisplay at 0x7fb0bbe88bd0>"
            ]
          },
          "metadata": {
            "tags": []
          },
          "execution_count": 119
        },
        {
          "output_type": "display_data",
          "data": {
            "image/png": "[encoded data removed]",
            "text/plain": [
              "<Figure size 432x288 with 2 Axes>"
            ]
          },
          "metadata": {
            "tags": [],
            "needs_background": "light"
          }
        }
      ]
    },
    {
      "cell_type": "markdown",
      "metadata": {
        "id": "QevdJIHNKTDW"
      },
      "source": [
        "> We see that the optimized `XGBoost` model is a lot better at identifying people that left the company. Of the `467` people that left the company, `383`, were correctly identified. Before optimization, we only correctly identified `224`. However, this improvement was at the expense of not being able to correctly classify as many people that did not leave. Before, optimization, we correctly identified `1182` people that did not leave. Now we only correctly classify `922`. That said, this trade off may be better for the company because now it can focus resources on the people that leave if that will help them retain them.\n",
        "\n",
        "> The last thing we are going to do is draw the first `XGBoost` tree and discuss how to interpret it."
      ]
    },
    {
      "cell_type": "code",
      "metadata": {
        "colab": {
          "base_uri": "https://localhost:8080/",
          "height": 450
        },
        "id": "RClG-tJRJGJE",
        "outputId": "263a9203-9a32-4056-f110-6e9b5c4bb396"
      },
      "source": [
        "clf = xgb.XGBClassifier(seed=42, objective='binary:logistic', gamma=.25, learing_rate=0.1, max_depth=4, \n",
        "                        reg_lambda=10, scale_pos_weight=3, subsample=0.9, colsample_bytree=0.5, n_estimators=1)\n",
        "\n",
        "clf.fit(X_train, y_train)\n",
        "\n",
        "bst = clf.get_booster()\n",
        "for importance_type in ('weight', 'gain', 'cover', 'total_gain', 'total_cover'):\n",
        "    print('%s: ' % importance_type, bst.get_score(importance_type=importance_type))\n",
        "\n",
        "node_params = {'shape': 'box', 'style': 'filled, rounded', 'fillcolor': '#78cbe'}\n",
        "leaf_params = {'shape': 'box', 'style': 'filled, rounded', 'fillcolor': '#e48038'}\n",
        "\n",
        "xgb.to_graphviz(clf, num_trees=0, size=\"13,20\", condition_node_params=node_params, leaf_node_params=leaf_params)"
      ],
      "execution_count": 128,
      "outputs": [
        {
          "output_type": "stream",
          "text": [
            "weight:  {'Contract_Two_year': 1, 'tenure': 1, 'DeviceProtection_No_internet_service': 1, 'MonthlyCharges': 4, 'TotalCharges': 3, 'PaymentMethod_Electronic_check': 1}\n",
            "gain:  {'Contract_Two_year': 1050.4021, 'tenure': 392.192688, 'DeviceProtection_No_internet_service': 226.627075, 'MonthlyCharges': 104.141780825, 'TotalCharges': 25.241268483333332, 'PaymentMethod_Electronic_check': 81.2462158}\n",
            "cover:  {'Contract_Two_year': 1820.25, 'tenure': 1516.75, 'DeviceProtection_No_internet_service': 644.0, 'MonthlyCharges': 511.5, 'TotalCharges': 62.083333333333336, 'PaymentMethod_Electronic_check': 556.25}\n",
            "total_gain:  {'Contract_Two_year': 1050.4021, 'tenure': 392.192688, 'DeviceProtection_No_internet_service': 226.627075, 'MonthlyCharges': 416.5671233, 'TotalCharges': 75.72380545, 'PaymentMethod_Electronic_check': 81.2462158}\n",
            "total_cover:  {'Contract_Two_year': 1820.25, 'tenure': 1516.75, 'DeviceProtection_No_internet_service': 644.0, 'MonthlyCharges': 2046.0, 'TotalCharges': 186.25, 'PaymentMethod_Electronic_check': 556.25}\n"
          ],
          "name": "stdout"
        },
        {
          "output_type": "execute_result",
          "data": {
            "text/plain": [
              "<graphviz.dot.Digraph at 0x7fb0bbdc3690>"
            ],
            "image/svg+xml": "<?xml version=\"1.0\" encoding=\"UTF-8\" standalone=\"no\"?>\n<!DOCTYPE svg PUBLIC \"-//W3C//DTD SVG 1.1//EN\"\n \"http://www.w3.org/Graphics/SVG/1.1/DTD/svg11.dtd\">\n<!-- Generated by graphviz version 2.40.1 (20161225.0304)\n -->\n<!-- Title: %3 Pages: 1 -->\n<svg width=\"936pt\" height=\"246pt\"\n viewBox=\"0.00 0.00 936.00 245.51\" xmlns=\"http://www.w3.org/2000/svg\" xmlns:xlink=\"http://www.w3.org/1999/xlink\">\n<g id=\"graph0\" class=\"graph\" transform=\"scale(.6263 .6263) rotate(0) translate(4 388)\">\n<title>%3</title>\n<polygon fill=\"#ffffff\" stroke=\"transparent\" points=\"-4,4 -4,-388 1490.5,-388 1490.5,4 -4,4\"/>\n<!-- 0 -->\n<g id=\"node1\" class=\"node\">\n<title>0</title>\n<path fill=\"#78cb0e\" stroke=\"#000000\" d=\"M1005.5,-384C1005.5,-384 883.5,-384 883.5,-384 877.5,-384 871.5,-378 871.5,-372 871.5,-372 871.5,-360 871.5,-360 871.5,-354 877.5,-348 883.5,-348 883.5,-348 1005.5,-348 1005.5,-348 1011.5,-348 1017.5,-354 1017.5,-360 1017.5,-360 1017.5,-372 1017.5,-372 1017.5,-378 1011.5,-384 1005.5,-384\"/>\n<text text-anchor=\"middle\" x=\"944.5\" y=\"-362.3\" font-family=\"Times,serif\" font-size=\"14.00\" fill=\"#000000\">Contract_Two_year&lt;1</text>\n</g>\n<!-- 1 -->\n<g id=\"node2\" class=\"node\">\n<title>1</title>\n<path fill=\"#78cb0e\" stroke=\"#000000\" d=\"M793.5,-297C793.5,-297 743.5,-297 743.5,-297 737.5,-297 731.5,-291 731.5,-285 731.5,-285 731.5,-273 731.5,-273 731.5,-267 737.5,-261 743.5,-261 743.5,-261 793.5,-261 793.5,-261 799.5,-261 805.5,-267 805.5,-273 805.5,-273 805.5,-285 805.5,-285 805.5,-291 799.5,-297 793.5,-297\"/>\n<text text-anchor=\"middle\" x=\"768.5\" y=\"-275.3\" font-family=\"Times,serif\" font-size=\"14.00\" fill=\"#000000\">tenure&lt;11</text>\n</g>\n<!-- 0&#45;&gt;1 -->\n<g id=\"edge1\" class=\"edge\">\n<title>0&#45;&gt;1</title>\n<path fill=\"none\" stroke=\"#0000ff\" d=\"M908.0327,-347.9735C880.7765,-334.5003 843.3368,-315.9932 814.1011,-301.5415\"/>\n<polygon fill=\"#0000ff\" stroke=\"#0000ff\" points=\"815.4361,-298.2972 804.9206,-297.0034 812.3342,-304.5724 815.4361,-298.2972\"/>\n<text text-anchor=\"middle\" x=\"903\" y=\"-318.8\" font-family=\"Times,serif\" font-size=\"14.00\" fill=\"#000000\">yes, missing</text>\n</g>\n<!-- 2 -->\n<g id=\"node3\" class=\"node\">\n<title>2</title>\n<path fill=\"#78cb0e\" stroke=\"#000000\" d=\"M1146,-297C1146,-297 977,-297 977,-297 971,-297 965,-291 965,-285 965,-285 965,-273 965,-273 965,-267 971,-261 977,-261 977,-261 1146,-261 1146,-261 1152,-261 1158,-267 1158,-273 1158,-273 1158,-285 1158,-285 1158,-291 1152,-297 1146,-297\"/>\n<text text-anchor=\"middle\" x=\"1061.5\" y=\"-275.3\" font-family=\"Times,serif\" font-size=\"14.00\" fill=\"#000000\">MonthlyCharges&lt;103.324997</text>\n</g>\n<!-- 0&#45;&gt;2 -->\n<g id=\"edge2\" class=\"edge\">\n<title>0&#45;&gt;2</title>\n<path fill=\"none\" stroke=\"#ff0000\" d=\"M968.7425,-347.9735C986.2341,-334.9669 1010.0348,-317.269 1029.1473,-303.0571\"/>\n<polygon fill=\"#ff0000\" stroke=\"#ff0000\" points=\"1031.3524,-305.7791 1037.2886,-297.0034 1027.1755,-300.1618 1031.3524,-305.7791\"/>\n<text text-anchor=\"middle\" x=\"1018.5\" y=\"-318.8\" font-family=\"Times,serif\" font-size=\"14.00\" fill=\"#000000\">no</text>\n</g>\n<!-- 3 -->\n<g id=\"node4\" class=\"node\">\n<title>3</title>\n<path fill=\"#78cb0e\" stroke=\"#000000\" d=\"M566,-210C566,-210 337,-210 337,-210 331,-210 325,-204 325,-198 325,-198 325,-186 325,-186 325,-180 331,-174 337,-174 337,-174 566,-174 566,-174 572,-174 578,-180 578,-186 578,-186 578,-198 578,-198 578,-204 572,-210 566,-210\"/>\n<text text-anchor=\"middle\" x=\"451.5\" y=\"-188.3\" font-family=\"Times,serif\" font-size=\"14.00\" fill=\"#000000\">DeviceProtection_No_internet_service&lt;1</text>\n</g>\n<!-- 1&#45;&gt;3 -->\n<g id=\"edge3\" class=\"edge\">\n<title>1&#45;&gt;3</title>\n<path fill=\"none\" stroke=\"#0000ff\" d=\"M731.2039,-268.7642C681.2328,-255.0497 591.3925,-230.3932 527.005,-212.7222\"/>\n<polygon fill=\"#0000ff\" stroke=\"#0000ff\" points=\"527.8689,-209.3299 517.2991,-210.0584 526.0162,-216.0803 527.8689,-209.3299\"/>\n<text text-anchor=\"middle\" x=\"665\" y=\"-231.8\" font-family=\"Times,serif\" font-size=\"14.00\" fill=\"#000000\">yes, missing</text>\n</g>\n<!-- 4 -->\n<g id=\"node5\" class=\"node\">\n<title>4</title>\n<path fill=\"#78cb0e\" stroke=\"#000000\" d=\"M853,-210C853,-210 684,-210 684,-210 678,-210 672,-204 672,-198 672,-198 672,-186 672,-186 672,-180 678,-174 684,-174 684,-174 853,-174 853,-174 859,-174 865,-180 865,-186 865,-186 865,-198 865,-198 865,-204 859,-210 853,-210\"/>\n<text text-anchor=\"middle\" x=\"768.5\" y=\"-188.3\" font-family=\"Times,serif\" font-size=\"14.00\" fill=\"#000000\">MonthlyCharges&lt;73.1750031</text>\n</g>\n<!-- 1&#45;&gt;4 -->\n<g id=\"edge4\" class=\"edge\">\n<title>1&#45;&gt;4</title>\n<path fill=\"none\" stroke=\"#ff0000\" d=\"M768.5,-260.9735C768.5,-249.1918 768.5,-233.5607 768.5,-220.1581\"/>\n<polygon fill=\"#ff0000\" stroke=\"#ff0000\" points=\"772.0001,-220.0033 768.5,-210.0034 765.0001,-220.0034 772.0001,-220.0033\"/>\n<text text-anchor=\"middle\" x=\"776.5\" y=\"-231.8\" font-family=\"Times,serif\" font-size=\"14.00\" fill=\"#000000\">no</text>\n</g>\n<!-- 5 -->\n<g id=\"node18\" class=\"node\">\n<title>5</title>\n<path fill=\"#e48038\" stroke=\"#000000\" d=\"M1113.5,-210C1113.5,-210 1009.5,-210 1009.5,-210 1003.5,-210 997.5,-204 997.5,-198 997.5,-198 997.5,-186 997.5,-186 997.5,-180 1003.5,-174 1009.5,-174 1009.5,-174 1113.5,-174 1113.5,-174 1119.5,-174 1125.5,-180 1125.5,-186 1125.5,-186 1125.5,-198 1125.5,-198 1125.5,-204 1119.5,-210 1113.5,-210\"/>\n<text text-anchor=\"middle\" x=\"1061.5\" y=\"-188.3\" font-family=\"Times,serif\" font-size=\"14.00\" fill=\"#000000\">leaf=&#45;0.174534783</text>\n</g>\n<!-- 2&#45;&gt;5 -->\n<g id=\"edge17\" class=\"edge\">\n<title>2&#45;&gt;5</title>\n<path fill=\"none\" stroke=\"#0000ff\" d=\"M1061.5,-260.9735C1061.5,-249.1918 1061.5,-233.5607 1061.5,-220.1581\"/>\n<polygon fill=\"#0000ff\" stroke=\"#0000ff\" points=\"1065.0001,-220.0033 1061.5,-210.0034 1058.0001,-220.0034 1065.0001,-220.0033\"/>\n<text text-anchor=\"middle\" x=\"1097\" y=\"-231.8\" font-family=\"Times,serif\" font-size=\"14.00\" fill=\"#000000\">yes, missing</text>\n</g>\n<!-- 6 -->\n<g id=\"node19\" class=\"node\">\n<title>6</title>\n<path fill=\"#78cb0e\" stroke=\"#000000\" d=\"M1335.5,-210C1335.5,-210 1187.5,-210 1187.5,-210 1181.5,-210 1175.5,-204 1175.5,-198 1175.5,-198 1175.5,-186 1175.5,-186 1175.5,-180 1181.5,-174 1187.5,-174 1187.5,-174 1335.5,-174 1335.5,-174 1341.5,-174 1347.5,-180 1347.5,-186 1347.5,-186 1347.5,-198 1347.5,-198 1347.5,-204 1341.5,-210 1335.5,-210\"/>\n<text text-anchor=\"middle\" x=\"1261.5\" y=\"-188.3\" font-family=\"Times,serif\" font-size=\"14.00\" fill=\"#000000\">TotalCharges&lt;7755.59961</text>\n</g>\n<!-- 2&#45;&gt;6 -->\n<g id=\"edge18\" class=\"edge\">\n<title>2&#45;&gt;6</title>\n<path fill=\"none\" stroke=\"#ff0000\" d=\"M1102.9401,-260.9735C1134.1812,-247.3837 1177.1958,-228.6723 1210.5414,-214.167\"/>\n<polygon fill=\"#ff0000\" stroke=\"#ff0000\" points=\"1212.3391,-217.2019 1220.113,-210.0034 1209.5468,-210.7829 1212.3391,-217.2019\"/>\n<text text-anchor=\"middle\" x=\"1181.5\" y=\"-231.8\" font-family=\"Times,serif\" font-size=\"14.00\" fill=\"#000000\">no</text>\n</g>\n<!-- 7 -->\n<g id=\"node6\" class=\"node\">\n<title>7</title>\n<path fill=\"#78cb0e\" stroke=\"#000000\" d=\"M288,-123C288,-123 119,-123 119,-123 113,-123 107,-117 107,-111 107,-111 107,-99 107,-99 107,-93 113,-87 119,-87 119,-87 288,-87 288,-87 294,-87 300,-93 300,-99 300,-99 300,-111 300,-111 300,-117 294,-123 288,-123\"/>\n<text text-anchor=\"middle\" x=\"203.5\" y=\"-101.3\" font-family=\"Times,serif\" font-size=\"14.00\" fill=\"#000000\">MonthlyCharges&lt;67.3249969</text>\n</g>\n<!-- 3&#45;&gt;7 -->\n<g id=\"edge5\" class=\"edge\">\n<title>3&#45;&gt;7</title>\n<path fill=\"none\" stroke=\"#0000ff\" d=\"M400.1142,-173.9735C360.6271,-160.1212 305.9715,-140.9477 264.3066,-126.3313\"/>\n<polygon fill=\"#0000ff\" stroke=\"#0000ff\" points=\"265.4148,-123.011 254.8199,-123.0034 263.0975,-129.6164 265.4148,-123.011\"/>\n<text text-anchor=\"middle\" x=\"378\" y=\"-144.8\" font-family=\"Times,serif\" font-size=\"14.00\" fill=\"#000000\">yes, missing</text>\n</g>\n<!-- 8 -->\n<g id=\"node7\" class=\"node\">\n<title>8</title>\n<path fill=\"#78cb0e\" stroke=\"#000000\" d=\"M525.5,-123C525.5,-123 377.5,-123 377.5,-123 371.5,-123 365.5,-117 365.5,-111 365.5,-111 365.5,-99 365.5,-99 365.5,-93 371.5,-87 377.5,-87 377.5,-87 525.5,-87 525.5,-87 531.5,-87 537.5,-93 537.5,-99 537.5,-99 537.5,-111 537.5,-111 537.5,-117 531.5,-123 525.5,-123\"/>\n<text text-anchor=\"middle\" x=\"451.5\" y=\"-101.3\" font-family=\"Times,serif\" font-size=\"14.00\" fill=\"#000000\">TotalCharges&lt;24.5249996</text>\n</g>\n<!-- 3&#45;&gt;8 -->\n<g id=\"edge6\" class=\"edge\">\n<title>3&#45;&gt;8</title>\n<path fill=\"none\" stroke=\"#ff0000\" d=\"M451.5,-173.9735C451.5,-162.1918 451.5,-146.5607 451.5,-133.1581\"/>\n<polygon fill=\"#ff0000\" stroke=\"#ff0000\" points=\"455.0001,-133.0033 451.5,-123.0034 448.0001,-133.0034 455.0001,-133.0033\"/>\n<text text-anchor=\"middle\" x=\"459.5\" y=\"-144.8\" font-family=\"Times,serif\" font-size=\"14.00\" fill=\"#000000\">no</text>\n</g>\n<!-- 9 -->\n<g id=\"node12\" class=\"node\">\n<title>9</title>\n<path fill=\"#78cb0e\" stroke=\"#000000\" d=\"M810,-123C810,-123 679,-123 679,-123 673,-123 667,-117 667,-111 667,-111 667,-99 667,-99 667,-93 673,-87 679,-87 679,-87 810,-87 810,-87 816,-87 822,-93 822,-99 822,-99 822,-111 822,-111 822,-117 816,-123 810,-123\"/>\n<text text-anchor=\"middle\" x=\"744.5\" y=\"-101.3\" font-family=\"Times,serif\" font-size=\"14.00\" fill=\"#000000\">MonthlyCharges&lt;27.75</text>\n</g>\n<!-- 4&#45;&gt;9 -->\n<g id=\"edge11\" class=\"edge\">\n<title>4&#45;&gt;9</title>\n<path fill=\"none\" stroke=\"#0000ff\" d=\"M763.5272,-173.9735C760.2449,-162.0751 755.8795,-146.2508 752.1581,-132.7606\"/>\n<polygon fill=\"#0000ff\" stroke=\"#0000ff\" points=\"755.4998,-131.7125 749.4664,-123.0034 748.7518,-133.5741 755.4998,-131.7125\"/>\n<text text-anchor=\"middle\" x=\"794\" y=\"-144.8\" font-family=\"Times,serif\" font-size=\"14.00\" fill=\"#000000\">yes, missing</text>\n</g>\n<!-- 10 -->\n<g id=\"node13\" class=\"node\">\n<title>10</title>\n<path fill=\"#78cb0e\" stroke=\"#000000\" d=\"M1061,-123C1061,-123 852,-123 852,-123 846,-123 840,-117 840,-111 840,-111 840,-99 840,-99 840,-93 846,-87 852,-87 852,-87 1061,-87 1061,-87 1067,-87 1073,-93 1073,-99 1073,-99 1073,-111 1073,-111 1073,-117 1067,-123 1061,-123\"/>\n<text text-anchor=\"middle\" x=\"956.5\" y=\"-101.3\" font-family=\"Times,serif\" font-size=\"14.00\" fill=\"#000000\">PaymentMethod_Electronic_check&lt;1</text>\n</g>\n<!-- 4&#45;&gt;10 -->\n<g id=\"edge12\" class=\"edge\">\n<title>4&#45;&gt;10</title>\n<path fill=\"none\" stroke=\"#ff0000\" d=\"M807.4537,-173.9735C836.6943,-160.442 876.9072,-141.8328 908.1948,-127.354\"/>\n<polygon fill=\"#ff0000\" stroke=\"#ff0000\" points=\"909.9908,-130.3796 917.5962,-123.0034 907.0509,-124.0268 909.9908,-130.3796\"/>\n<text text-anchor=\"middle\" x=\"882.5\" y=\"-144.8\" font-family=\"Times,serif\" font-size=\"14.00\" fill=\"#000000\">no</text>\n</g>\n<!-- 13 -->\n<g id=\"node8\" class=\"node\">\n<title>13</title>\n<path fill=\"#e48038\" stroke=\"#000000\" d=\"M111,-36C111,-36 12,-36 12,-36 6,-36 0,-30 0,-24 0,-24 0,-12 0,-12 0,-6 6,0 12,0 12,0 111,0 111,0 117,0 123,-6 123,-12 123,-12 123,-24 123,-24 123,-30 117,-36 111,-36\"/>\n<text text-anchor=\"middle\" x=\"61.5\" y=\"-14.3\" font-family=\"Times,serif\" font-size=\"14.00\" fill=\"#000000\">leaf=0.076110445</text>\n</g>\n<!-- 7&#45;&gt;13 -->\n<g id=\"edge7\" class=\"edge\">\n<title>7&#45;&gt;13</title>\n<path fill=\"none\" stroke=\"#0000ff\" d=\"M161.8318,-86.8472C150.7584,-81.5284 138.9721,-75.4072 128.5,-69 115.6563,-61.1418 102.3017,-51.3511 90.9266,-42.455\"/>\n<polygon fill=\"#0000ff\" stroke=\"#0000ff\" points=\"93.0348,-39.6598 83.0291,-36.1759 88.6783,-45.139 93.0348,-39.6598\"/>\n<text text-anchor=\"middle\" x=\"164\" y=\"-57.8\" font-family=\"Times,serif\" font-size=\"14.00\" fill=\"#000000\">yes, missing</text>\n</g>\n<!-- 14 -->\n<g id=\"node9\" class=\"node\">\n<title>14</title>\n<path fill=\"#e48038\" stroke=\"#000000\" d=\"M253.5,-36C253.5,-36 153.5,-36 153.5,-36 147.5,-36 141.5,-30 141.5,-24 141.5,-24 141.5,-12 141.5,-12 141.5,-6 147.5,0 153.5,0 153.5,0 253.5,0 253.5,0 259.5,0 265.5,-6 265.5,-12 265.5,-12 265.5,-24 265.5,-24 265.5,-30 259.5,-36 253.5,-36\"/>\n<text text-anchor=\"middle\" x=\"203.5\" y=\"-14.3\" font-family=\"Times,serif\" font-size=\"14.00\" fill=\"#000000\">leaf=0.146575347</text>\n</g>\n<!-- 7&#45;&gt;14 -->\n<g id=\"edge8\" class=\"edge\">\n<title>7&#45;&gt;14</title>\n<path fill=\"none\" stroke=\"#ff0000\" d=\"M203.5,-86.9735C203.5,-75.1918 203.5,-59.5607 203.5,-46.1581\"/>\n<polygon fill=\"#ff0000\" stroke=\"#ff0000\" points=\"207.0001,-46.0033 203.5,-36.0034 200.0001,-46.0034 207.0001,-46.0033\"/>\n<text text-anchor=\"middle\" x=\"211.5\" y=\"-57.8\" font-family=\"Times,serif\" font-size=\"14.00\" fill=\"#000000\">no</text>\n</g>\n<!-- 15 -->\n<g id=\"node10\" class=\"node\">\n<title>15</title>\n<path fill=\"#e48038\" stroke=\"#000000\" d=\"M403,-36C403,-36 296,-36 296,-36 290,-36 284,-30 284,-24 284,-24 284,-12 284,-12 284,-6 290,0 296,0 296,0 403,0 403,0 409,0 415,-6 415,-12 415,-12 415,-24 415,-24 415,-30 409,-36 403,-36\"/>\n<text text-anchor=\"middle\" x=\"349.5\" y=\"-14.3\" font-family=\"Times,serif\" font-size=\"14.00\" fill=\"#000000\">leaf=0.0358490571</text>\n</g>\n<!-- 8&#45;&gt;15 -->\n<g id=\"edge9\" class=\"edge\">\n<title>8&#45;&gt;15</title>\n<path fill=\"none\" stroke=\"#0000ff\" d=\"M421.758,-86.9218C413.6202,-81.5138 404.9858,-75.3288 397.5,-69 388.5427,-61.427 379.5201,-52.3194 371.7533,-43.9092\"/>\n<polygon fill=\"#0000ff\" stroke=\"#0000ff\" points=\"374.312,-41.5203 365.0116,-36.4455 369.1174,-46.2125 374.312,-41.5203\"/>\n<text text-anchor=\"middle\" x=\"433\" y=\"-57.8\" font-family=\"Times,serif\" font-size=\"14.00\" fill=\"#000000\">yes, missing</text>\n</g>\n<!-- 16 -->\n<g id=\"node11\" class=\"node\">\n<title>16</title>\n<path fill=\"#e48038\" stroke=\"#000000\" d=\"M549.5,-36C549.5,-36 445.5,-36 445.5,-36 439.5,-36 433.5,-30 433.5,-24 433.5,-24 433.5,-12 433.5,-12 433.5,-6 439.5,0 445.5,0 445.5,0 549.5,0 549.5,0 555.5,0 561.5,-6 561.5,-12 561.5,-12 561.5,-24 561.5,-24 561.5,-30 555.5,-36 549.5,-36\"/>\n<text text-anchor=\"middle\" x=\"497.5\" y=\"-14.3\" font-family=\"Times,serif\" font-size=\"14.00\" fill=\"#000000\">leaf=&#45;0.108225107</text>\n</g>\n<!-- 8&#45;&gt;16 -->\n<g id=\"edge10\" class=\"edge\">\n<title>8&#45;&gt;16</title>\n<path fill=\"none\" stroke=\"#ff0000\" d=\"M461.0312,-86.9735C467.4457,-74.8418 476.0182,-58.6287 483.2401,-44.9698\"/>\n<polygon fill=\"#ff0000\" stroke=\"#ff0000\" points=\"486.4008,-46.4797 487.981,-36.0034 480.2126,-43.2077 486.4008,-46.4797\"/>\n<text text-anchor=\"middle\" x=\"485.5\" y=\"-57.8\" font-family=\"Times,serif\" font-size=\"14.00\" fill=\"#000000\">no</text>\n</g>\n<!-- 17 -->\n<g id=\"node14\" class=\"node\">\n<title>17</title>\n<path fill=\"#e48038\" stroke=\"#000000\" d=\"M695.5,-36C695.5,-36 591.5,-36 591.5,-36 585.5,-36 579.5,-30 579.5,-24 579.5,-24 579.5,-12 579.5,-12 579.5,-6 585.5,0 591.5,0 591.5,0 695.5,0 695.5,0 701.5,0 707.5,-6 707.5,-12 707.5,-12 707.5,-24 707.5,-24 707.5,-30 701.5,-36 695.5,-36\"/>\n<text text-anchor=\"middle\" x=\"643.5\" y=\"-14.3\" font-family=\"Times,serif\" font-size=\"14.00\" fill=\"#000000\">leaf=&#45;0.133658543</text>\n</g>\n<!-- 9&#45;&gt;17 -->\n<g id=\"edge13\" class=\"edge\">\n<title>9&#45;&gt;17</title>\n<path fill=\"none\" stroke=\"#0000ff\" d=\"M715.3295,-86.8578C707.3426,-81.4492 698.8629,-75.2799 691.5,-69 682.5755,-61.3883 673.561,-52.2712 665.7916,-43.8641\"/>\n<polygon fill=\"#0000ff\" stroke=\"#0000ff\" points=\"668.3491,-41.474 659.0448,-36.4064 663.1582,-46.1702 668.3491,-41.474\"/>\n<text text-anchor=\"middle\" x=\"727\" y=\"-57.8\" font-family=\"Times,serif\" font-size=\"14.00\" fill=\"#000000\">yes, missing</text>\n</g>\n<!-- 18 -->\n<g id=\"node15\" class=\"node\">\n<title>18</title>\n<path fill=\"#e48038\" stroke=\"#000000\" d=\"M849.5,-36C849.5,-36 737.5,-36 737.5,-36 731.5,-36 725.5,-30 725.5,-24 725.5,-24 725.5,-12 725.5,-12 725.5,-6 731.5,0 737.5,0 737.5,0 849.5,0 849.5,0 855.5,0 861.5,-6 861.5,-12 861.5,-12 861.5,-24 861.5,-24 861.5,-30 855.5,-36 849.5,-36\"/>\n<text text-anchor=\"middle\" x=\"793.5\" y=\"-14.3\" font-family=\"Times,serif\" font-size=\"14.00\" fill=\"#000000\">leaf=&#45;0.0529914573</text>\n</g>\n<!-- 9&#45;&gt;18 -->\n<g id=\"edge14\" class=\"edge\">\n<title>9&#45;&gt;18</title>\n<path fill=\"none\" stroke=\"#ff0000\" d=\"M754.6528,-86.9735C761.4856,-74.8418 770.6172,-58.6287 778.3101,-44.9698\"/>\n<polygon fill=\"#ff0000\" stroke=\"#ff0000\" points=\"781.5023,-46.4341 783.3602,-36.0034 775.4032,-42.9989 781.5023,-46.4341\"/>\n<text text-anchor=\"middle\" x=\"780.5\" y=\"-57.8\" font-family=\"Times,serif\" font-size=\"14.00\" fill=\"#000000\">no</text>\n</g>\n<!-- 19 -->\n<g id=\"node16\" class=\"node\">\n<title>19</title>\n<path fill=\"#e48038\" stroke=\"#000000\" d=\"M1013.5,-36C1013.5,-36 891.5,-36 891.5,-36 885.5,-36 879.5,-30 879.5,-24 879.5,-24 879.5,-12 879.5,-12 879.5,-6 885.5,0 891.5,0 891.5,0 1013.5,0 1013.5,0 1019.5,0 1025.5,-6 1025.5,-12 1025.5,-12 1025.5,-24 1025.5,-24 1025.5,-30 1019.5,-36 1013.5,-36\"/>\n<text text-anchor=\"middle\" x=\"952.5\" y=\"-14.3\" font-family=\"Times,serif\" font-size=\"14.00\" fill=\"#000000\">leaf=0.000185701021</text>\n</g>\n<!-- 10&#45;&gt;19 -->\n<g id=\"edge15\" class=\"edge\">\n<title>10&#45;&gt;19</title>\n<path fill=\"none\" stroke=\"#0000ff\" d=\"M955.6712,-86.9735C955.1295,-75.1918 954.4108,-59.5607 953.7946,-46.1581\"/>\n<polygon fill=\"#0000ff\" stroke=\"#0000ff\" points=\"957.2834,-45.832 953.3277,-36.0034 950.2908,-46.1536 957.2834,-45.832\"/>\n<text text-anchor=\"middle\" x=\"991\" y=\"-57.8\" font-family=\"Times,serif\" font-size=\"14.00\" fill=\"#000000\">yes, missing</text>\n</g>\n<!-- 20 -->\n<g id=\"node17\" class=\"node\">\n<title>20</title>\n<path fill=\"#e48038\" stroke=\"#000000\" d=\"M1163,-36C1163,-36 1056,-36 1056,-36 1050,-36 1044,-30 1044,-24 1044,-24 1044,-12 1044,-12 1044,-6 1050,0 1056,0 1056,0 1163,0 1163,0 1169,0 1175,-6 1175,-12 1175,-12 1175,-24 1175,-24 1175,-30 1169,-36 1163,-36\"/>\n<text text-anchor=\"middle\" x=\"1109.5\" y=\"-14.3\" font-family=\"Times,serif\" font-size=\"14.00\" fill=\"#000000\">leaf=0.0762214959</text>\n</g>\n<!-- 10&#45;&gt;20 -->\n<g id=\"edge16\" class=\"edge\">\n<title>10&#45;&gt;20</title>\n<path fill=\"none\" stroke=\"#ff0000\" d=\"M995.7435,-86.9953C1007.1021,-81.4934 1019.4216,-75.2408 1030.5,-69 1045.3179,-60.6527 1061.1587,-50.6532 1074.7358,-41.7286\"/>\n<polygon fill=\"#ff0000\" stroke=\"#ff0000\" points=\"1076.9003,-44.4928 1083.2975,-36.0473 1073.0298,-38.6601 1076.9003,-44.4928\"/>\n<text text-anchor=\"middle\" x=\"1063.5\" y=\"-57.8\" font-family=\"Times,serif\" font-size=\"14.00\" fill=\"#000000\">no</text>\n</g>\n<!-- 11 -->\n<g id=\"node20\" class=\"node\">\n<title>11</title>\n<path fill=\"#78cb0e\" stroke=\"#000000\" d=\"M1328,-123C1328,-123 1195,-123 1195,-123 1189,-123 1183,-117 1183,-111 1183,-111 1183,-99 1183,-99 1183,-93 1189,-87 1195,-87 1195,-87 1328,-87 1328,-87 1334,-87 1340,-93 1340,-99 1340,-99 1340,-111 1340,-111 1340,-117 1334,-123 1328,-123\"/>\n<text text-anchor=\"middle\" x=\"1261.5\" y=\"-101.3\" font-family=\"Times,serif\" font-size=\"14.00\" fill=\"#000000\">TotalCharges&lt;7677.875</text>\n</g>\n<!-- 6&#45;&gt;11 -->\n<g id=\"edge19\" class=\"edge\">\n<title>6&#45;&gt;11</title>\n<path fill=\"none\" stroke=\"#0000ff\" d=\"M1261.5,-173.9735C1261.5,-162.1918 1261.5,-146.5607 1261.5,-133.1581\"/>\n<polygon fill=\"#0000ff\" stroke=\"#0000ff\" points=\"1265.0001,-133.0033 1261.5,-123.0034 1258.0001,-133.0034 1265.0001,-133.0033\"/>\n<text text-anchor=\"middle\" x=\"1297\" y=\"-144.8\" font-family=\"Times,serif\" font-size=\"14.00\" fill=\"#000000\">yes, missing</text>\n</g>\n<!-- 12 -->\n<g id=\"node21\" class=\"node\">\n<title>12</title>\n<path fill=\"#e48038\" stroke=\"#000000\" d=\"M1474.5,-123C1474.5,-123 1370.5,-123 1370.5,-123 1364.5,-123 1358.5,-117 1358.5,-111 1358.5,-111 1358.5,-99 1358.5,-99 1358.5,-93 1364.5,-87 1370.5,-87 1370.5,-87 1474.5,-87 1474.5,-87 1480.5,-87 1486.5,-93 1486.5,-99 1486.5,-99 1486.5,-111 1486.5,-111 1486.5,-117 1480.5,-123 1474.5,-123\"/>\n<text text-anchor=\"middle\" x=\"1422.5\" y=\"-101.3\" font-family=\"Times,serif\" font-size=\"14.00\" fill=\"#000000\">leaf=&#45;0.135483876</text>\n</g>\n<!-- 6&#45;&gt;12 -->\n<g id=\"edge20\" class=\"edge\">\n<title>6&#45;&gt;12</title>\n<path fill=\"none\" stroke=\"#ff0000\" d=\"M1300.7519,-173.9569C1312.3671,-168.404 1325.0393,-162.1336 1336.5,-156 1352.4693,-147.4535 1369.7081,-137.4012 1384.5283,-128.4905\"/>\n<polygon fill=\"#ff0000\" stroke=\"#ff0000\" points=\"1386.6685,-131.2864 1393.4106,-123.1136 1383.0434,-125.2981 1386.6685,-131.2864\"/>\n<text text-anchor=\"middle\" x=\"1371.5\" y=\"-144.8\" font-family=\"Times,serif\" font-size=\"14.00\" fill=\"#000000\">no</text>\n</g>\n<!-- 21 -->\n<g id=\"node22\" class=\"node\">\n<title>21</title>\n<path fill=\"#e48038\" stroke=\"#000000\" d=\"M1317.5,-36C1317.5,-36 1205.5,-36 1205.5,-36 1199.5,-36 1193.5,-30 1193.5,-24 1193.5,-24 1193.5,-12 1193.5,-12 1193.5,-6 1199.5,0 1205.5,0 1205.5,0 1317.5,0 1317.5,0 1323.5,0 1329.5,-6 1329.5,-12 1329.5,-12 1329.5,-24 1329.5,-24 1329.5,-30 1323.5,-36 1317.5,-36\"/>\n<text text-anchor=\"middle\" x=\"1261.5\" y=\"-14.3\" font-family=\"Times,serif\" font-size=\"14.00\" fill=\"#000000\">leaf=&#45;0.0452380963</text>\n</g>\n<!-- 11&#45;&gt;21 -->\n<g id=\"edge21\" class=\"edge\">\n<title>11&#45;&gt;21</title>\n<path fill=\"none\" stroke=\"#0000ff\" d=\"M1261.5,-86.9735C1261.5,-75.1918 1261.5,-59.5607 1261.5,-46.1581\"/>\n<polygon fill=\"#0000ff\" stroke=\"#0000ff\" points=\"1265.0001,-46.0033 1261.5,-36.0034 1258.0001,-46.0034 1265.0001,-46.0033\"/>\n<text text-anchor=\"middle\" x=\"1297\" y=\"-57.8\" font-family=\"Times,serif\" font-size=\"14.00\" fill=\"#000000\">yes, missing</text>\n</g>\n<!-- 22 -->\n<g id=\"node23\" class=\"node\">\n<title>22</title>\n<path fill=\"#e48038\" stroke=\"#000000\" d=\"M1467,-36C1467,-36 1360,-36 1360,-36 1354,-36 1348,-30 1348,-24 1348,-24 1348,-12 1348,-12 1348,-6 1354,0 1360,0 1360,0 1467,0 1467,0 1473,0 1479,-6 1479,-12 1479,-12 1479,-24 1479,-24 1479,-30 1473,-36 1467,-36\"/>\n<text text-anchor=\"middle\" x=\"1413.5\" y=\"-14.3\" font-family=\"Times,serif\" font-size=\"14.00\" fill=\"#000000\">leaf=0.0295081977</text>\n</g>\n<!-- 11&#45;&gt;22 -->\n<g id=\"edge22\" class=\"edge\">\n<title>11&#45;&gt;22</title>\n<path fill=\"none\" stroke=\"#ff0000\" d=\"M1301.7249,-86.9432C1313.13,-81.4886 1325.4465,-75.274 1336.5,-69 1351.0275,-60.7541 1366.4829,-50.7735 1379.7052,-41.8356\"/>\n<polygon fill=\"#ff0000\" stroke=\"#ff0000\" points=\"1381.757,-44.6727 1388.0395,-36.1415 1377.8081,-38.8929 1381.757,-44.6727\"/>\n<text text-anchor=\"middle\" x=\"1368.5\" y=\"-57.8\" font-family=\"Times,serif\" font-size=\"14.00\" fill=\"#000000\">no</text>\n</g>\n</g>\n</svg>\n"
          },
          "metadata": {
            "tags": []
          },
          "execution_count": 128
        }
      ]
    },
    {
      "cell_type": "markdown",
      "metadata": {
        "id": "nibWxg0rO5_c"
      },
      "source": [
        "> Now let's discuss how to interpred the `XGBoost` tree. In each node we have:\n",
        "- The variable (column name) and the threshold for splitting the observations.\n",
        "- Each branch either says `yes` or `no` and some also say `missing`.\n",
        "- `leaf` tells us the output value for each leaf."
      ]
    },
    {
      "cell_type": "code",
      "metadata": {
        "id": "3Z5-Fu1SN8r_"
      },
      "source": [
        ""
      ],
      "execution_count": null,
      "outputs": []
    }
  ]
}