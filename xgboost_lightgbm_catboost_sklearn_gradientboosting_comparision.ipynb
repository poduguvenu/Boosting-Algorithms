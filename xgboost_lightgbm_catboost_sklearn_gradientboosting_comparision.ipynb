{
  "nbformat": 4,
  "nbformat_minor": 0,
  "metadata": {
    "kernelspec": {
      "display_name": "Python 3",
      "language": "python",
      "name": "python3"
    },
    "language_info": {
      "codemirror_mode": {
        "name": "ipython",
        "version": 3
      },
      "file_extension": ".py",
      "mimetype": "text/x-python",
      "name": "python",
      "nbconvert_exporter": "python",
      "pygments_lexer": "ipython3",
      "version": "3.7.6"
    },
    "colab": {
      "name": "xgboost-lightgbm-catboost-sklearn-gradientboosting-comparision.ipynb",
      "provenance": []
    }
  },
  "cells": [
    {
      "cell_type": "markdown",
      "metadata": {
        "id": "QAA1ZGNntcTF"
      },
      "source": [
        "# XG Boost, Light GBM, catBoost and Scikit-Learn Gradient Boosting Performance Comparision\n",
        "In this notebook we'll compare the speed and accuracy of several gradient boosting implementations from Scikit-Learn, XGBoost, LightGBM and CatBoost.\n",
        "\n",
        "There are so many available and many times you don't know which one to choose for your machine learning problem therefore in this notebook we'll train classifiers with each and then compare the speed and accuracy to see which one is the winner. "
      ]
    },
    {
      "cell_type": "markdown",
      "metadata": {
        "id": "knUlWpL6uZ4G"
      },
      "source": [
        "> ## Import Required Modules\n",
        "\n"
      ]
    },
    {
      "cell_type": "code",
      "metadata": {
        "id": "njojLHZsub1E"
      },
      "source": [
        "# from IPython.xore.debugger import set_trace\n",
        "# %load_ext nb_black\n",
        "import numpy as np\n",
        "import pandas as pd\n",
        "from time import time\n",
        "from sklearn.datasets import make_classification\n",
        "from sklearn.ensemble import GradientBoostingClassifier\n",
        "from sklearn.model_selection import cross_val_score, RepeatedStratifiedKFold"
      ],
      "execution_count": 4,
      "outputs": []
    },
    {
      "cell_type": "markdown",
      "metadata": {
        "id": "b8x6a-CRwSQk"
      },
      "source": [
        "> # Gradient Boosting Machine | GBM\n",
        "Gradient Boosting is an ensemble algorithm that fits boosted decision trees by minimizing an error gradient. "
      ]
    },
    {
      "cell_type": "code",
      "metadata": {
        "id": "EmwJYpD5v6M3"
      },
      "source": [
        "from sklearn.datasets import make_classification\n",
        "\n",
        "X, y = make_classification(n_samples=10000, n_features=20, n_informative=15, n_redundant=5, random_state=0)"
      ],
      "execution_count": 11,
      "outputs": []
    },
    {
      "cell_type": "code",
      "metadata": {
        "colab": {
          "base_uri": "https://localhost:8080/"
        },
        "id": "XPUCJYvGx8b4",
        "outputId": "f7bd9461-6dd6-487e-a516-528617721c93"
      },
      "source": [
        "X"
      ],
      "execution_count": 12,
      "outputs": [
        {
          "output_type": "execute_result",
          "data": {
            "text/plain": [
              "array([[ 5.28003572,  0.07866376, -0.06964284, ..., -3.46287848,\n",
              "        -0.03862101,  3.39993039],\n",
              "       [ 2.16926235, -2.33555961, -0.39400421, ..., -0.86901332,\n",
              "        -0.82929365, -5.54782464],\n",
              "       [ 0.50841459, -2.64924693,  2.11503792, ..., -0.7373016 ,\n",
              "        -2.11204173,  1.53660878],\n",
              "       ...,\n",
              "       [-2.0093232 , -1.21052136, -0.89558391, ...,  5.14633699,\n",
              "        -0.04689061, -2.59038402],\n",
              "       [-5.48082318,  1.69027971,  1.55338889, ..., -0.0579665 ,\n",
              "         0.98007555, -1.9660304 ],\n",
              "       [ 2.57435489, -0.13578773,  2.6852563 , ..., -0.66826083,\n",
              "        -1.22760575,  0.39196471]])"
            ]
          },
          "metadata": {
            "tags": []
          },
          "execution_count": 12
        }
      ]
    },
    {
      "cell_type": "code",
      "metadata": {
        "colab": {
          "base_uri": "https://localhost:8080/"
        },
        "id": "qjKJUc7gx9sB",
        "outputId": "c1f2ee3c-6435-4acf-cdaf-918e2948ad0c"
      },
      "source": [
        "X.shape"
      ],
      "execution_count": 13,
      "outputs": [
        {
          "output_type": "execute_result",
          "data": {
            "text/plain": [
              "(10000, 20)"
            ]
          },
          "metadata": {
            "tags": []
          },
          "execution_count": 13
        }
      ]
    },
    {
      "cell_type": "markdown",
      "metadata": {
        "id": "epvPkjRFyB_V"
      },
      "source": [
        "> Define empty dictionaries in order to record accuracy and speed"
      ]
    },
    {
      "cell_type": "code",
      "metadata": {
        "id": "wsx_1fGuxFTQ"
      },
      "source": [
        "accuracy = {}\n",
        "speed = {}"
      ],
      "execution_count": 14,
      "outputs": []
    },
    {
      "cell_type": "markdown",
      "metadata": {
        "id": "dUnoDjvLxd6e"
      },
      "source": [
        "> # 1. Scikit-Learn - `GradientBoostingClassifier`"
      ]
    },
    {
      "cell_type": "code",
      "metadata": {
        "id": "rBCHzezexK75"
      },
      "source": [
        "from sklearn.ensemble import GradientBoostingClassifier\n",
        "from sklearn.model_selection import cross_val_score\n",
        "from sklearn.model_selection import RepeatedStratifiedKFold"
      ],
      "execution_count": 9,
      "outputs": []
    },
    {
      "cell_type": "code",
      "metadata": {
        "colab": {
          "base_uri": "https://localhost:8080/"
        },
        "id": "yFI76hrdyOP0",
        "outputId": "08f4eb9a-fb94-498d-ace6-4b0f1bdb2781"
      },
      "source": [
        "model = GradientBoostingClassifier()\n",
        "\n",
        "start = time()\n",
        "cv = RepeatedStratifiedKFold(n_splits=5, n_repeats=2, random_state=0)\n",
        "score = cross_val_score(model, X, y, scoring='accuracy', cv=cv, n_jobs=-1)\n",
        "\n",
        "speed['GradientBoosting'] = np.round(time() - start, 3)\n",
        "accuracy['GradientBoosting'] = np.mean(score).round(3)\n",
        "\n",
        "print(f\"Mean Accuracy: {accuracy['GradientBoosting']}\\nStd: {np.std(score):.3f}\\nRun time: {speed['GradientBoosting']}s\")"
      ],
      "execution_count": 15,
      "outputs": [
        {
          "output_type": "stream",
          "text": [
            "Mean Accuracy: 0.878\n",
            "Std: 0.007\n",
            "Run time: 45.31s\n"
          ],
          "name": "stdout"
        }
      ]
    },
    {
      "cell_type": "markdown",
      "metadata": {
        "id": "ZPvtlscp0E7c"
      },
      "source": [
        "> # 2. Alternative - `HistGradientBoostingClassifier`"
      ]
    },
    {
      "cell_type": "code",
      "metadata": {
        "id": "6ZSCysqdubwq"
      },
      "source": [
        "from sklearn.experimental import enable_hist_gradient_boosting\n",
        "from sklearn.ensemble import HistGradientBoostingClassifier"
      ],
      "execution_count": 16,
      "outputs": []
    },
    {
      "cell_type": "code",
      "metadata": {
        "colab": {
          "base_uri": "https://localhost:8080/"
        },
        "id": "1JPGD89O1MmB",
        "outputId": "3fa15fc1-deb6-4b91-d60e-0acd531dcabf"
      },
      "source": [
        "model = HistGradientBoostingClassifier()\n",
        "\n",
        "start = time()\n",
        "cv = RepeatedStratifiedKFold(n_splits=5, n_repeats=2, random_state=0)\n",
        "score = cross_val_score(model, X, y, scoring='accuracy', cv=cv, n_jobs=-1)\n",
        "\n",
        "speed['HistGradientBoosting'] = np.round(time() - start, 3)\n",
        "accuracy['HistGradientBoosting'] = np.mean(score).round(3)\n",
        "\n",
        "print(f\"Mean Accuracy: {accuracy['HistGradientBoosting']}\\nStd: {np.std(score):.3f}\\nRun time: {speed['HistGradientBoosting']}s\")"
      ],
      "execution_count": 17,
      "outputs": [
        {
          "output_type": "stream",
          "text": [
            "Mean Accuracy: 0.948\n",
            "Std: 0.005\n",
            "Run time: 6.808s\n"
          ],
          "name": "stdout"
        }
      ]
    },
    {
      "cell_type": "markdown",
      "metadata": {
        "id": "Cggao24q2QX1"
      },
      "source": [
        "> # 3. XGBoost - `XGBClassifier`"
      ]
    },
    {
      "cell_type": "code",
      "metadata": {
        "id": "aJ3rCvZwubst"
      },
      "source": [
        "from xgboost import XGBClassifier"
      ],
      "execution_count": 22,
      "outputs": []
    },
    {
      "cell_type": "code",
      "metadata": {
        "colab": {
          "base_uri": "https://localhost:8080/"
        },
        "id": "Qe4Byxfr3CD9",
        "outputId": "1965c9d9-8f8d-4047-ceea-f6f13c7577ec"
      },
      "source": [
        "model = XGBClassifier()\n",
        "\n",
        "start = time()\n",
        "cv = RepeatedStratifiedKFold(n_splits=5, n_repeats=2, random_state=0)\n",
        "score = cross_val_score(model, X, y, scoring='accuracy', cv=cv, n_jobs=-1)\n",
        "\n",
        "speed['XGB'] = np.round(time() - start, 3)\n",
        "accuracy['XGB'] = np.mean(score).round(3)\n",
        "\n",
        "print(f\"Mean Accuracy: {accuracy['XGB']}\\nStd: {np.std(score):.3f}\\nRun time: {speed['XGB']}s\")"
      ],
      "execution_count": 25,
      "outputs": [
        {
          "output_type": "stream",
          "text": [
            "Mean Accuracy: 0.873\n",
            "Std: 0.009\n",
            "Run time: 10.409s\n"
          ],
          "name": "stdout"
        }
      ]
    },
    {
      "cell_type": "markdown",
      "metadata": {
        "id": "4L_VeRYf4Pc_"
      },
      "source": [
        "> # 4. LightGBM - `LGBMClassifier`"
      ]
    },
    {
      "cell_type": "code",
      "metadata": {
        "id": "kZ0zH_zY252D"
      },
      "source": [
        "from lightgbm import LGBMClassifier"
      ],
      "execution_count": 26,
      "outputs": []
    },
    {
      "cell_type": "code",
      "metadata": {
        "colab": {
          "base_uri": "https://localhost:8080/"
        },
        "id": "xJ3YexIS45JD",
        "outputId": "ac994a4f-6c12-4e77-ea56-5f9c93f89ad6"
      },
      "source": [
        "model = LGBMClassifier()\n",
        "\n",
        "start = time()\n",
        "cv = RepeatedStratifiedKFold(n_splits=5, n_repeats=2, random_state=0)\n",
        "score = cross_val_score(model, X, y, scoring='accuracy', cv=cv, n_jobs=-1)\n",
        "\n",
        "speed['LGBM'] = np.round(time() - start, 3)\n",
        "accuracy['LGBM'] = np.mean(score).round(3)\n",
        "\n",
        "print(f\"Mean Accuracy: {accuracy['LGBM']}\\nStd: {np.std(score):.3f}\\nRun time: {speed['LGBM']}s\")"
      ],
      "execution_count": 27,
      "outputs": [
        {
          "output_type": "stream",
          "text": [
            "Mean Accuracy: 0.949\n",
            "Std: 0.006\n",
            "Run time: 5.627s\n"
          ],
          "name": "stdout"
        }
      ]
    },
    {
      "cell_type": "markdown",
      "metadata": {
        "id": "bRmEYqvC5rQ-"
      },
      "source": [
        "> # 5. CatBoost - `CatBoostClassifier`"
      ]
    },
    {
      "cell_type": "code",
      "metadata": {
        "id": "-tyEqm0Gubn1"
      },
      "source": [
        "!pip install catboost"
      ],
      "execution_count": null,
      "outputs": []
    },
    {
      "cell_type": "code",
      "metadata": {
        "id": "5yGXnBl06JRG"
      },
      "source": [
        "from catboost import CatBoostClassifier"
      ],
      "execution_count": 30,
      "outputs": []
    },
    {
      "cell_type": "code",
      "metadata": {
        "colab": {
          "base_uri": "https://localhost:8080/"
        },
        "id": "oiGpbsImubAl",
        "outputId": "eb311b74-4818-43a2-c56b-71cfa5bdb79e"
      },
      "source": [
        "model = CatBoostClassifier()\n",
        "\n",
        "start = time()\n",
        "cv = RepeatedStratifiedKFold(n_splits=5, n_repeats=2, random_state=0)\n",
        "score = cross_val_score(model, X, y, scoring='accuracy', cv=cv, n_jobs=-1)\n",
        "\n",
        "speed['CatBoost'] = np.round(time() - start, 3)\n",
        "accuracy['CatBoost'] = np.mean(score).round(3)\n",
        "\n",
        "print(f\"Mean Accuracy: {accuracy['CatBoost']}\\nStd: {np.std(score):.3f}\\nRun time: {speed['CatBoost']}s\")"
      ],
      "execution_count": 31,
      "outputs": [
        {
          "output_type": "stream",
          "text": [
            "Mean Accuracy: 0.964\n",
            "Std: 0.004\n",
            "Run time: 126.18s\n"
          ],
          "name": "stdout"
        }
      ]
    },
    {
      "cell_type": "markdown",
      "metadata": {
        "id": "L3nQdzYy7qT1"
      },
      "source": [
        "> ## This is the best accuracy that we got so far"
      ]
    },
    {
      "cell_type": "code",
      "metadata": {
        "colab": {
          "base_uri": "https://localhost:8080/"
        },
        "id": "Dk8YilX278wP",
        "outputId": "95a0981a-98dd-48af-f53a-b54e2418899e"
      },
      "source": [
        "print(\"Accuracy: \")\n",
        "{k: v for k, v in sorted(accuracy.items(), key=lambda i: i[1], reverse=True)}"
      ],
      "execution_count": 42,
      "outputs": [
        {
          "output_type": "stream",
          "text": [
            "Accuracy: \n"
          ],
          "name": "stdout"
        },
        {
          "output_type": "execute_result",
          "data": {
            "text/plain": [
              "{'CatBoost': 0.964,\n",
              " 'GradientBoosting': 0.878,\n",
              " 'HistGradientBoosting': 0.948,\n",
              " 'LGBM': 0.949,\n",
              " 'XGB': 0.873}"
            ]
          },
          "metadata": {
            "tags": []
          },
          "execution_count": 42
        }
      ]
    },
    {
      "cell_type": "code",
      "metadata": {
        "colab": {
          "base_uri": "https://localhost:8080/"
        },
        "id": "WIE1PnEW8ZcX",
        "outputId": "4f377ff9-6048-43cd-f6d1-2d78d620f3c6"
      },
      "source": [
        "print(\"Speed:\")\n",
        "{ k: v for k, v in sorted(speed.items(), key=lambda i: i[1], reverse=False)}"
      ],
      "execution_count": 40,
      "outputs": [
        {
          "output_type": "stream",
          "text": [
            "Speed:\n"
          ],
          "name": "stdout"
        },
        {
          "output_type": "execute_result",
          "data": {
            "text/plain": [
              "{'CatBoost': 126.18,\n",
              " 'GradientBoosting': 45.31,\n",
              " 'HistGradientBoosting': 6.808,\n",
              " 'LGBM': 5.627,\n",
              " 'XGB': 10.409}"
            ]
          },
          "metadata": {
            "tags": []
          },
          "execution_count": 40
        }
      ]
    },
    {
      "cell_type": "code",
      "metadata": {
        "id": "OcZWRdjLtbA0"
      },
      "source": [
        ""
      ],
      "execution_count": null,
      "outputs": []
    }
  ]
}